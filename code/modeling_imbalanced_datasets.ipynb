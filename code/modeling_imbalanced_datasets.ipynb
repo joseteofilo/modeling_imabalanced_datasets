{
 "cells": [
  {
   "cell_type": "markdown",
   "metadata": {},
   "source": [
    "# Binary QSAR in Python - LabMol\n",
    "\n",
    "Script version 5\n",
    "\n",
    "\n",
    "Developed by: \n",
    "#### José Teófilo Moreira Filho"
   ]
  },
  {
   "cell_type": "code",
   "execution_count": null,
   "metadata": {},
   "outputs": [],
   "source": [
    "import datetime\n",
    "now = datetime.datetime.now()\n",
    "print(\"date of creation:\\n\", now)"
   ]
  },
  {
   "cell_type": "markdown",
   "metadata": {},
   "source": [
    "#  <font color='red'> Model building with Morgan fingerprint and RF, XGBoost, LighrGBM, SMV and GBM</font>"
   ]
  },
  {
   "cell_type": "code",
   "execution_count": 1,
   "metadata": {},
   "outputs": [
    {
     "name": "stderr",
     "output_type": "stream",
     "text": [
      "RDKit WARNING: [16:55:51] Enabling RDKit 2019.09.3 jupyter extensions\n",
      "C:\\Users\\tiofi\\PyMOL\\envs\\rdkit2\\lib\\site-packages\\sklearn\\externals\\joblib\\__init__.py:15: FutureWarning: sklearn.externals.joblib is deprecated in 0.21 and will be removed in 0.23. Please import this functionality directly from joblib, which can be installed with: pip install joblib. If this warning is raised when loading pickled models, you may need to re-serialize those models with scikit-learn 0.21+.\n",
      "  warnings.warn(msg, category=FutureWarning)\n"
     ]
    }
   ],
   "source": [
    "# Importing packages \n",
    "from rdkit import Chem, DataStructs\n",
    "from rdkit import Chem\n",
    "from rdkit.Chem import AllChem, Descriptors\n",
    "from rdkit.Chem import PandasTools\n",
    "from rdkit.Chem import MACCSkeys\n",
    "\n",
    "import matplotlib.pyplot as plt\n",
    "import numpy as np\n",
    "import seaborn as sns\n",
    "import pandas as pd\n",
    "from pandas import DataFrame\n",
    "import os\n",
    "\n",
    "import xgboost as xgb\n",
    "import lightgbm as lgb\n",
    "\n",
    "from sklearn.svm import SVC\n",
    "from sklearn.ensemble import RandomForestClassifier, GradientBoostingClassifier\n",
    "from sklearn.model_selection import train_test_split, StratifiedKFold, GridSearchCV\n",
    "from sklearn.preprocessing import StandardScaler\n",
    "from sklearn import metrics\n",
    "from sklearn.metrics import accuracy_score, cohen_kappa_score, matthews_corrcoef, roc_curve, precision_recall_curve, roc_auc_score,make_scorer\n",
    "from sklearn.metrics import f1_score, balanced_accuracy_score\n",
    "from sklearn.externals import joblib\n",
    "from sklearn.model_selection import cross_val_score\n",
    "from sklearn.datasets import load_digits\n",
    "#from sklearn import cross_validation\n",
    "from sklearn.model_selection import cross_val_score\n",
    "\n",
    "from imblearn.ensemble import BalancedRandomForestClassifier\n",
    "from imblearn.metrics import geometric_mean_score\n",
    "\n",
    "import multiprocessing\n",
    "\n",
    "from skopt import BayesSearchCV\n",
    "\n",
    "from imblearn.over_sampling import SMOTE\n",
    "from imblearn.over_sampling import ADASYN"
   ]
  },
  {
   "cell_type": "markdown",
   "metadata": {},
   "source": [
    "## Model building - Morgan_RF"
   ]
  },
  {
   "cell_type": "markdown",
   "metadata": {},
   "source": [
    "## Check numbers in each class"
   ]
  },
  {
   "cell_type": "code",
   "execution_count": null,
   "metadata": {},
   "outputs": [],
   "source": [
    "fname = \"../data/LoVo_prep.sdf\""
   ]
  },
  {
   "cell_type": "code",
   "execution_count": null,
   "metadata": {},
   "outputs": [],
   "source": [
    "df = PandasTools.LoadSDF(fname, smilesName='SMILES', includeFingerprints=False)"
   ]
  },
  {
   "cell_type": "code",
   "execution_count": null,
   "metadata": {},
   "outputs": [],
   "source": [
    "df.columns"
   ]
  },
  {
   "cell_type": "code",
   "execution_count": null,
   "metadata": {},
   "outputs": [],
   "source": [
    "# Float column 'pIC50'\n",
    "df[\"is_active\"] = df[\"is_active\"].astype(int)"
   ]
  },
  {
   "cell_type": "code",
   "execution_count": null,
   "metadata": {},
   "outputs": [],
   "source": [
    "# Check numbers in each class\n",
    "target_count = df.is_active.value_counts()\n",
    "print('Class 0:', target_count[0])\n",
    "print('Class 1:', target_count[1])\n",
    "print('Proportion:', round(target_count[0] / target_count[1], 2), ': 1')\n",
    "\n",
    "target_count.plot(kind='bar', title='Count (target)');"
   ]
  },
  {
   "cell_type": "markdown",
   "metadata": {},
   "source": [
    "## PCA before oversampling"
   ]
  },
  {
   "cell_type": "code",
   "execution_count": null,
   "metadata": {},
   "outputs": [],
   "source": [
    "import pandas as pd\n",
    "from rdkit import Chem, DataStructs\n",
    "from rdkit.Chem import AllChem\n",
    "import numpy as np\n",
    "from tqdm import tqdm\n",
    "import seaborn as sns\n",
    "import matplotlib.pyplot as plt"
   ]
  },
  {
   "cell_type": "code",
   "execution_count": null,
   "metadata": {},
   "outputs": [],
   "source": [
    "sns.set(rc={'figure.figsize': (10, 10)})\n",
    "sns.set(font_scale=1.5)\n",
    "sns.set_style('whitegrid')"
   ]
  },
  {
   "cell_type": "code",
   "execution_count": null,
   "metadata": {},
   "outputs": [],
   "source": [
    "def fp_list_from_smiles_list(smiles_list,n_bits=2048):\n",
    "    fp_list = []\n",
    "    for smiles in tqdm(smiles_list):\n",
    "        mol = Chem.MolFromSmiles(smiles)\n",
    "        fp_list.append(fp_as_array(mol,n_bits))\n",
    "    return fp_list\n",
    "\n",
    "def fp_as_array(mol,n_bits=2048):\n",
    "    fp = AllChem.GetMorganFingerprintAsBitVect(mol, 2, nBits=n_bits)\n",
    "    arr = np.zeros((1,), np.int)\n",
    "    DataStructs.ConvertToNumpyArray(fp, arr)\n",
    "    return arr"
   ]
  },
  {
   "cell_type": "code",
   "execution_count": null,
   "metadata": {},
   "outputs": [],
   "source": [
    "fp_list = fp_list_from_smiles_list(df.SMILES)"
   ]
  },
  {
   "cell_type": "code",
   "execution_count": null,
   "metadata": {},
   "outputs": [],
   "source": [
    "from sklearn.decomposition import PCA\n",
    "pca = PCA(n_components=2)\n",
    "crds = pca.fit_transform(fp_list)"
   ]
  },
  {
   "cell_type": "code",
   "execution_count": null,
   "metadata": {},
   "outputs": [],
   "source": [
    "crds_df = pd.DataFrame(crds,columns=[\"PC_1\",\"PC_2\"])\n",
    "crds_df['is_active'] = list(df.is_active)\n",
    "crds_df.head()"
   ]
  },
  {
   "cell_type": "code",
   "execution_count": null,
   "metadata": {},
   "outputs": [],
   "source": [
    "ax = sns.scatterplot(data=crds_df.query(\"is_active == 0\"),x=\"PC_1\",y=\"PC_2\",color='green')\n",
    "ax = sns.scatterplot(data=crds_df.query(\"is_active == 1\"),x=\"PC_1\",y=\"PC_2\",color='red')\n",
    "_ = plt.legend(labels=['Inactive', 'Active'])"
   ]
  },
  {
   "cell_type": "markdown",
   "metadata": {},
   "source": [
    "### Fingerprint calculation"
   ]
  },
  {
   "cell_type": "code",
   "execution_count": 2,
   "metadata": {},
   "outputs": [],
   "source": [
    "# Reading molecules and activity (0 and 1) from SDF\n",
    "fname = \"../data/LoVo_prep.sdf\"\n",
    "\n",
    "mols = []\n",
    "y = []\n",
    "for mol in Chem.SDMolSupplier(fname):\n",
    "    if mol is not None:\n",
    "        mols.append(mol)\n",
    "        y.append(mol.GetIntProp(\"is_active\")) # target column"
   ]
  },
  {
   "cell_type": "code",
   "execution_count": 3,
   "metadata": {},
   "outputs": [],
   "source": [
    "# Calculate descriptors (fingerprints) and convert them into numpy array\n",
    "\n",
    "# generate binary Morgan fingerprint with radius 2\n",
    "fp = [AllChem.GetMorganFingerprintAsBitVect(m, 2, 2048) for m in mols]\n",
    "\n",
    "def rdkit_numpy_convert(fp):\n",
    "    output = []\n",
    "    for f in fp:\n",
    "        arr = np.zeros((1,))\n",
    "        DataStructs.ConvertToNumpyArray(f, arr)\n",
    "        output.append(arr)\n",
    "    return np.asarray(output)\n",
    "\n",
    "x = rdkit_numpy_convert(fp)"
   ]
  },
  {
   "cell_type": "code",
   "execution_count": 4,
   "metadata": {},
   "outputs": [
    {
     "data": {
      "text/plain": [
       "'# Calculate descriptors (fingerprints) and convert them into numpy array\\n\\n# generate binary Morgan fingerprint with radius 2\\nfp = [MACCSkeys.GenMACCSKeys(m) for m in mols]\\n\\ndef rdkit_numpy_convert(fp):\\n    output = []\\n    for f in fp:\\n        arr = np.zeros((1,))\\n        DataStructs.ConvertToNumpyArray(f, arr)\\n        output.append(arr)\\n    return np.asarray(output)\\n    \\nx = rdkit_numpy_convert(fp)'"
      ]
     },
     "execution_count": 4,
     "metadata": {},
     "output_type": "execute_result"
    }
   ],
   "source": [
    "\"\"\"# Calculate descriptors (fingerprints) and convert them into numpy array\n",
    "\n",
    "# generate binary Morgan fingerprint with radius 2\n",
    "fp = [MACCSkeys.GenMACCSKeys(m) for m in mols]\n",
    "\n",
    "def rdkit_numpy_convert(fp):\n",
    "    output = []\n",
    "    for f in fp:\n",
    "        arr = np.zeros((1,))\n",
    "        DataStructs.ConvertToNumpyArray(f, arr)\n",
    "        output.append(arr)\n",
    "    return np.asarray(output)\n",
    "    \n",
    "x = rdkit_numpy_convert(fp)\"\"\""
   ]
  },
  {
   "cell_type": "code",
   "execution_count": 5,
   "metadata": {},
   "outputs": [
    {
     "data": {
      "text/plain": [
       "1120"
      ]
     },
     "execution_count": 5,
     "metadata": {},
     "output_type": "execute_result"
    }
   ],
   "source": [
    "# Check the number of compounds\n",
    "len(x)"
   ]
  },
  {
   "cell_type": "code",
   "execution_count": 6,
   "metadata": {},
   "outputs": [
    {
     "data": {
      "text/plain": [
       "0.35267857142857145"
      ]
     },
     "execution_count": 6,
     "metadata": {},
     "output_type": "execute_result"
    }
   ],
   "source": [
    "# check wether the data set is balanced\n",
    "sum(y) / len(y)"
   ]
  },
  {
   "cell_type": "markdown",
   "metadata": {},
   "source": [
    "### Data splitting"
   ]
  },
  {
   "cell_type": "code",
   "execution_count": 7,
   "metadata": {},
   "outputs": [],
   "source": [
    "#Set random seed to make all further calculations reproducible\n",
    "seed = 42"
   ]
  },
  {
   "cell_type": "code",
   "execution_count": 10,
   "metadata": {},
   "outputs": [],
   "source": [
    "# randomly select 20% of compounds as test set\n",
    "# randomly select 20% of compounds as test set\n",
    "x_tr, x_ts, y_tr, y_ts = train_test_split(x, y, test_size=0.20, random_state=seed, stratify=y)"
   ]
  },
  {
   "cell_type": "markdown",
   "metadata": {},
   "source": [
    "### Oversampling"
   ]
  },
  {
   "cell_type": "code",
   "execution_count": 9,
   "metadata": {},
   "outputs": [
    {
     "name": "stdout",
     "output_type": "stream",
     "text": [
      "(1160, 2048)\n",
      "0.5\n"
     ]
    }
   ],
   "source": [
    "x_tr, y_tr = SMOTE().fit_resample(x_tr, y_tr)\n",
    "print(x_tr.shape)\n",
    "#print(Y_resampled.shape)\n",
    "print(sum(y_tr)/len(y_tr))"
   ]
  },
  {
   "cell_type": "code",
   "execution_count": null,
   "metadata": {},
   "outputs": [],
   "source": [
    "count_Y = pd.DataFrame(y_tr)\n",
    "count_Y.shape"
   ]
  },
  {
   "cell_type": "markdown",
   "metadata": {},
   "source": [
    "### CV splitting"
   ]
  },
  {
   "cell_type": "code",
   "execution_count": 11,
   "metadata": {},
   "outputs": [],
   "source": [
    "#Create folds for cross-validation\n",
    "cv = StratifiedKFold(n_splits=5, shuffle=True, random_state=42)"
   ]
  },
  {
   "cell_type": "markdown",
   "metadata": {},
   "source": [
    "## Random Forest model generation - Simple model"
   ]
  },
  {
   "cell_type": "code",
   "execution_count": 12,
   "metadata": {},
   "outputs": [
    {
     "data": {
      "text/plain": [
       "RandomForestClassifier(bootstrap=True, ccp_alpha=0.0, class_weight=None,\n",
       "                       criterion='gini', max_depth=None, max_features='auto',\n",
       "                       max_leaf_nodes=None, max_samples=None,\n",
       "                       min_impurity_decrease=0.0, min_impurity_split=None,\n",
       "                       min_samples_leaf=1, min_samples_split=2,\n",
       "                       min_weight_fraction_leaf=0.0, n_estimators=100, n_jobs=8,\n",
       "                       oob_score=False, random_state=42, verbose=0,\n",
       "                       warm_start=False)"
      ]
     },
     "execution_count": 12,
     "metadata": {},
     "output_type": "execute_result"
    }
   ],
   "source": [
    "ncores=multiprocessing.cpu_count()\n",
    "\n",
    "# log-uniform: understand as search over p = exp(x) by varying x\n",
    "simple_rf = RandomForestClassifier(n_estimators=100, random_state=42, n_jobs = ncores)\n",
    "\n",
    "scores = cross_val_score(simple_rf, x_tr, y_tr, cv=cv, scoring=\"f1\")\n",
    "scores.mean()\n",
    "\n",
    "simple_rf.fit(x_tr, y_tr)"
   ]
  },
  {
   "cell_type": "code",
   "execution_count": 13,
   "metadata": {},
   "outputs": [],
   "source": [
    "# predict Outcome class\n",
    "pred_rf = simple_rf.predict(x_ts)"
   ]
  },
  {
   "cell_type": "code",
   "execution_count": 14,
   "metadata": {},
   "outputs": [
    {
     "name": "stdout",
     "output_type": "stream",
     "text": [
      "[[129  16]\n",
      " [ 19  60]]\n"
     ]
    }
   ],
   "source": [
    "# save confusion matrix and slice into four pieces\n",
    "confusion = metrics.confusion_matrix(y_ts, pred_rf)\n",
    "print(confusion)\n",
    "\n",
    "#[row, column]\n",
    "TP = confusion[1, 1]\n",
    "TN = confusion[0, 0]\n",
    "FP = confusion[0, 1]\n",
    "FN = confusion[1, 0]"
   ]
  },
  {
   "cell_type": "code",
   "execution_count": 22,
   "metadata": {},
   "outputs": [],
   "source": [
    "from sklearn.metrics import plot_confusion_matrix"
   ]
  },
  {
   "cell_type": "code",
   "execution_count": 47,
   "metadata": {},
   "outputs": [
    {
     "name": "stdout",
     "output_type": "stream",
     "text": [
      "Confusion matrix\n",
      "[[129  16]\n",
      " [ 19  60]]\n"
     ]
    },
    {
     "data": {
      "image/png": "[encoded data removed]",
      "text/plain": [
       "<Figure size 432x288 with 2 Axes>"
      ]
     },
     "metadata": {
      "needs_background": "light"
     },
     "output_type": "display_data"
    }
   ],
   "source": [
    "# Plot non-normalized confusion matrix\n",
    "title = \"Confusion matrix\"\n",
    "disp = plot_confusion_matrix(simple_rf, x_ts, y_ts, display_labels=[0, 1],cmap=plt.cm.Blues)\n",
    "disp.ax_.set_title(title)\n",
    "\n",
    "\n",
    "print(title)\n",
    "print(disp.confusion_matrix)\n",
    "\n",
    "plt.show()"
   ]
  },
  {
   "cell_type": "code",
   "execution_count": null,
   "metadata": {},
   "outputs": [],
   "source": []
  },
  {
   "cell_type": "code",
   "execution_count": null,
   "metadata": {},
   "outputs": [],
   "source": []
  },
  {
   "cell_type": "code",
   "execution_count": null,
   "metadata": {},
   "outputs": [],
   "source": [
    "# calc statistics\n",
    "accuracy = accuracy_score(y_ts, pred_rf) #accuracy\n",
    "mcc = matthews_corrcoef(y_ts, pred_rf) #mcc\n",
    "kappa = cohen_kappa_score(y_ts, pred_rf) #kappa\n",
    "sensitivity = metrics.recall_score(y_ts, pred_rf) #Sensitivity\n",
    "specificity = TN / (TN + FP) #Specificity\n",
    "precision = TP / float(TP + FP) #Precision\n",
    "positive_pred_value = TP / float(TP + FP) #PPV\n",
    "negative_pred_value = TN / float(TN + FN) #NPV\n",
    "auc = metrics.roc_auc_score(y_ts,pred_rf) #AUC\n",
    "bacc = metrics.balanced_accuracy_score(y_ts, pred_rf) # balanced accuracy\n",
    "f1 = metrics.f1_score(y_ts, pred_rf) # F1-score\n",
    "\n",
    "print(\"Accuracy = \", accuracy)\n",
    "print(\"MCC = \", mcc)\n",
    "print(\"Kappa = \", kappa)\n",
    "print(\"Sensitivity = \", sensitivity)\n",
    "print(\"Specificity = \", specificity)\n",
    "print(\"Precision = \", precision)\n",
    "print(\"PPV = \", positive_pred_value)\n",
    "print(\"NPV = \", negative_pred_value)\n",
    "print(\"AUC = \", metrics.roc_auc_score(y_ts, pred_rf))\n",
    "print(\"Balanced accuracy = \", bacc)\n",
    "print(\"F1-score = \", f1)"
   ]
  },
  {
   "cell_type": "markdown",
   "metadata": {},
   "source": [
    "## Random Forest model generation - Bayesian hyperparameter search  "
   ]
  },
  {
   "cell_type": "code",
   "execution_count": null,
   "metadata": {},
   "outputs": [],
   "source": [
    "ncores=multiprocessing.cpu_count()\n",
    "\n",
    "# log-uniform: understand as search over p = exp(x) by varying x\n",
    "opt_rf = BayesSearchCV(\n",
    "    RandomForestClassifier(class_weight=\"balanced\"),\n",
    "    {'max_features': (10, 2048, 'log-uniform'),\n",
    "    'n_estimators': [50, 500]\n",
    "    },\n",
    "    n_iter=30,\n",
    "    cv=cv,\n",
    "    scoring = \"f1\",\n",
    "    verbose=1,\n",
    "    random_state=42, \n",
    "    n_jobs = ncores\n",
    ")\n",
    "\n",
    "\n",
    "opt_rf.fit(x_tr, y_tr)\n",
    "\n",
    "print(\"val. score: %s\" % opt_rf.best_score_)\n",
    "print(\"test score: %s\" % opt_rf.score(x_ts, y_ts))\n",
    "print(\"Best params: %s\" % opt_rf.best_params_)"
   ]
  },
  {
   "cell_type": "markdown",
   "metadata": {},
   "source": [
    "### Save model"
   ]
  },
  {
   "cell_type": "code",
   "execution_count": null,
   "metadata": {},
   "outputs": [],
   "source": [
    "rf = opt_rf.best_estimator_"
   ]
  },
  {
   "cell_type": "code",
   "execution_count": null,
   "metadata": {},
   "outputs": [],
   "source": [
    "#Save model - pkl file\n",
    "joblib.dump(rf, \"../models/binary_rf_maccs_tgr_oversampling_smote_recall.pkl\", compress=3)"
   ]
  },
  {
   "cell_type": "markdown",
   "metadata": {},
   "source": [
    "### Statistics - Morgan-RF"
   ]
  },
  {
   "cell_type": "code",
   "execution_count": null,
   "metadata": {},
   "outputs": [],
   "source": [
    "# predict Outcome class\n",
    "pred_rf = rf.predict(x_ts)"
   ]
  },
  {
   "cell_type": "code",
   "execution_count": null,
   "metadata": {},
   "outputs": [],
   "source": [
    "#Store the predicted probabilities for class 1\n",
    "pred_rf = rf.predict_proba(x_ts)[:, 1] > 0.5"
   ]
  },
  {
   "cell_type": "code",
   "execution_count": null,
   "metadata": {},
   "outputs": [],
   "source": [
    "# save confusion matrix and slice into four pieces\n",
    "confusion = metrics.confusion_matrix(y_ts, pred_rf)\n",
    "print(confusion)"
   ]
  },
  {
   "cell_type": "code",
   "execution_count": null,
   "metadata": {},
   "outputs": [],
   "source": [
    "#[row, column]\n",
    "TP = confusion[1, 1]\n",
    "TN = confusion[0, 0]\n",
    "FP = confusion[0, 1]\n",
    "FN = confusion[1, 0]"
   ]
  },
  {
   "cell_type": "code",
   "execution_count": null,
   "metadata": {},
   "outputs": [],
   "source": [
    "# calc statistics\n",
    "accuracy = accuracy_score(y_ts, pred_rf) #accuracy\n",
    "mcc = matthews_corrcoef(y_ts, pred_rf) #mcc\n",
    "kappa = cohen_kappa_score(y_ts, pred_rf) #kappa\n",
    "sensitivity = metrics.recall_score(y_ts, pred_rf) #Sensitivity\n",
    "specificity = TN / (TN + FP) #Specificity\n",
    "precision = TP / float(TP + FP) #Precision\n",
    "positive_pred_value = TP / float(TP + FP) #PPV\n",
    "negative_pred_value = TN / float(TN + FN) #NPV\n",
    "auc = metrics.roc_auc_score(y_ts,pred_rf) #AUC\n",
    "bacc = metrics.balanced_accuracy_score(y_ts, pred_rf) # balanced accuracy\n",
    "f1 = metrics.f1_score(y_ts, pred_rf) # F1-score"
   ]
  },
  {
   "cell_type": "code",
   "execution_count": null,
   "metadata": {},
   "outputs": [],
   "source": [
    "print(\"Accuracy = \", accuracy)\n",
    "print(\"MCC = \", mcc)\n",
    "print(\"Kappa = \", kappa)\n",
    "print(\"Sensitivity = \", sensitivity)\n",
    "print(\"Specificity = \", specificity)\n",
    "print(\"Precision = \", precision)\n",
    "print(\"PPV = \", positive_pred_value)\n",
    "print(\"NPV = \", negative_pred_value)\n",
    "print(\"AUC = \", metrics.roc_auc_score(y_ts, pred_rf))\n",
    "print(\"Balanced accuracy = \", bacc)\n",
    "print(\"F1-score = \", f1)"
   ]
  },
  {
   "cell_type": "code",
   "execution_count": null,
   "metadata": {},
   "outputs": [],
   "source": [
    "# Bar graph with metrics\n",
    "sns.set_style(\"whitegrid\")\n",
    "stats = [accuracy, mcc, kappa, sensitivity, specificity, positive_pred_value, negative_pred_value, bacc, auc]\n",
    "labels = [\"Acc\", \"MCC\", \"Kappa\", \"Se\", \"Sp\", \"PPV\", \"NPV\", 'Bal-acc', 'AUC']\n",
    "report = sns.barplot(x=labels, y=stats)\n",
    "plt.savefig('../results/binary_report_rf_maccs_tgr_oversampling_smote_recall.png', dpi=600)"
   ]
  },
  {
   "cell_type": "code",
   "execution_count": null,
   "metadata": {},
   "outputs": [],
   "source": [
    "#converting calculated metrics into a pandas dataframe\n",
    "metrics_rf = DataFrame({'Accuracy': accuracy, 'MCC': mcc, 'Kappa': kappa,\n",
    "                    , \"Sensitivity\": sensitivity,\"Specificity\": specificity, \"Precision\": precision, \"PPV\": positive_pred_value,\n",
    "                    \"NPV\": negative_pred_value, 'Bal-acc':bacc, 'F1-score': f1,'AUC': auc}, index=[0])"
   ]
  },
  {
   "cell_type": "code",
   "execution_count": null,
   "metadata": {},
   "outputs": [],
   "source": [
    "# Print the dataframe\n",
    "metrics_rf"
   ]
  },
  {
   "cell_type": "code",
   "execution_count": null,
   "metadata": {},
   "outputs": [],
   "source": [
    "# Saving the dataframe as excel file\n",
    "metrics_rf.to_excel(\"../results/binary_metrics_rf_maccs_tgr_oversampling_smote_recall.xlsx\", sheet_name= \"Sheet1\")"
   ]
  },
  {
   "cell_type": "markdown",
   "metadata": {},
   "source": [
    "## SVM Model building - Bayesian hyperparameter search  "
   ]
  },
  {
   "cell_type": "code",
   "execution_count": null,
   "metadata": {},
   "outputs": [],
   "source": [
    "ncores=multiprocessing.cpu_count()\n",
    "\n",
    "# log-uniform: understand as search over p = exp(x) by varying x\n",
    "opt_svm = BayesSearchCV(\n",
    "    SVC(probability=True, class_weight=\"balanced\"),\n",
    "    {\n",
    "        'C': (1e-6, 1e+6, 'log-uniform'),\n",
    "        'gamma': (1e-6, 1e+1, 'log-uniform'),\n",
    "        'degree': (1, 8),  # integer valued parameter\n",
    "        'kernel': ['rbf'],  # categorical parameter | ['linear', 'poly', 'rbf'] to test all kernels\n",
    "    },\n",
    "    n_iter=30,\n",
    "    cv=cv,\n",
    "    scoring = \"recall\",\n",
    "    n_jobs = ncores\n",
    ")\n",
    "\n",
    "opt_svm.fit(x_tr, y_tr)\n",
    "\n",
    "print(\"val. score: %s\" % opt_svm.best_score_)\n",
    "print(\"test score: %s\" % opt_svm.score(x_ts, y_ts))\n",
    "print(\"Best params: %s\" % opt_svm.best_params_)"
   ]
  },
  {
   "cell_type": "markdown",
   "metadata": {},
   "source": [
    "### Save model"
   ]
  },
  {
   "cell_type": "code",
   "execution_count": null,
   "metadata": {},
   "outputs": [],
   "source": [
    "svm = opt_svm.best_estimator_"
   ]
  },
  {
   "cell_type": "code",
   "execution_count": null,
   "metadata": {},
   "outputs": [],
   "source": [
    "#Save model - pkl file\n",
    "joblib.dump(svm, \"../models/binary_svm_maccs_tgr_oversampling_smote_recall.pkl\", compress=3)"
   ]
  },
  {
   "cell_type": "markdown",
   "metadata": {},
   "source": [
    "### Statistics - Morgan-SVM"
   ]
  },
  {
   "cell_type": "code",
   "execution_count": null,
   "metadata": {},
   "outputs": [],
   "source": [
    "# predict Outcome class\n",
    "pred_svm = svm.predict(x_ts)"
   ]
  },
  {
   "cell_type": "code",
   "execution_count": null,
   "metadata": {},
   "outputs": [],
   "source": [
    "#Store the predicted probabilities for class 1\n",
    "pred_svm = svm.predict_proba(x_ts)[:, 1] > 0.5"
   ]
  },
  {
   "cell_type": "code",
   "execution_count": null,
   "metadata": {},
   "outputs": [],
   "source": [
    "# save confusion matrix and slice into four pieces\n",
    "confusion = metrics.confusion_matrix(y_ts, pred_svm)\n",
    "print(confusion)"
   ]
  },
  {
   "cell_type": "code",
   "execution_count": null,
   "metadata": {},
   "outputs": [],
   "source": [
    "#[row, column]\n",
    "TP = confusion[1, 1]\n",
    "TN = confusion[0, 0]\n",
    "FP = confusion[0, 1]\n",
    "FN = confusion[1, 0]"
   ]
  },
  {
   "cell_type": "code",
   "execution_count": null,
   "metadata": {},
   "outputs": [],
   "source": [
    "# calc statistics\n",
    "accuracy = accuracy_score(y_ts, pred_svm) #accuracy\n",
    "mcc = matthews_corrcoef(y_ts, pred_svm) #mcc\n",
    "kappa = cohen_kappa_score(y_ts, pred_svm) #kappa\n",
    "sensitivity = metrics.recall_score(y_ts, pred_svm) #Sensitivity\n",
    "specificity = TN / (TN + FP) #Specificity\n",
    "precision = TP / float(TP + FP) #Precision\n",
    "positive_pred_value = TP / float(TP + FP) #PPV\n",
    "negative_pred_value = TN / float(TN + FN) #NPV\n",
    "bacc = metrics.balanced_accuracy_score(y_ts, pred_svm) # balanced accuracy\n",
    "f1 = metrics.f1_score(y_ts, pred_svm) # F1-score\n",
    "auc = metrics.roc_auc_score(y_ts, pred_svm) #AUC"
   ]
  },
  {
   "cell_type": "code",
   "execution_count": null,
   "metadata": {},
   "outputs": [],
   "source": [
    "print(\"Accuracy = \", accuracy)\n",
    "print(\"MCC = \", mcc)\n",
    "print(\"Kappa = \", kappa)\n",
    "print(\"Sensitivity = \", sensitivity)\n",
    "print(\"Specificity = \", specificity)\n",
    "print(\"Precision = \", precision)\n",
    "print(\"PPV = \", positive_pred_value)\n",
    "print(\"NPV = \", negative_pred_value)\n",
    "print(\"AUC = \", metrics.roc_auc_score(y_ts, y_pred_prob))\n",
    "print(\"Balanced accuracy = \", bacc)\n",
    "print(\"F1-score = \", f1)"
   ]
  },
  {
   "cell_type": "code",
   "execution_count": null,
   "metadata": {},
   "outputs": [],
   "source": [
    "# Bar graph with metrics\n",
    "sns.set_style(\"whitegrid\")\n",
    "stats = [accuracy, mcc, kappa, sensitivity, specificity, positive_pred_value, negative_pred_value, bacc, f1, auc]\n",
    "labels = [\"Acc\", \"MCC\", \"Kappa\", \"Se\", \"Sp\", \"PPV\", \"NPV\", 'Bal-acc', \"F1\",'AUC']\n",
    "report = sns.barplot(x=labels, y=stats)\n",
    "plt.savefig('../results/binary_report_svm_maccs_tgr_oversampling_smote_recall.png', dpi=600)"
   ]
  },
  {
   "cell_type": "code",
   "execution_count": null,
   "metadata": {},
   "outputs": [],
   "source": [
    "#converting calculated metrics into a pandas dataframe\n",
    "metrics_svm = DataFrame({'Accuracy': accuracy, 'MCC': mcc, 'Kappa': kappa,\n",
    "                    , \"Sensitivity\": sensitivity,\"Specificity\": specificity, \"Precision\": precision, \"PPV\": positive_pred_value,\n",
    "                    \"NPV\": negative_pred_value, 'Bal-acc':bacc, 'F1-score': f1,'AUC': auc}, index=[0])"
   ]
  },
  {
   "cell_type": "code",
   "execution_count": null,
   "metadata": {},
   "outputs": [],
   "source": [
    "# Print the dataframe\n",
    "print(metrics_svm)"
   ]
  },
  {
   "cell_type": "code",
   "execution_count": null,
   "metadata": {},
   "outputs": [],
   "source": [
    "# Saving the dataframe as excel file\n",
    "metrics_svm.to_excel(\"../results/binary_metrics_svm_maccs_tgr_oversampling_smote_recall.xlsx\", sheet_name= \"Sheet1\")"
   ]
  },
  {
   "cell_type": "code",
   "execution_count": null,
   "metadata": {},
   "outputs": [],
   "source": [
    "# Saving the dataframe as excel file\n",
    "metrics_xgb.to_excel(\"../results/binary_metrics_xgb_morgan_tgr_imbalanced.xlsx\", sheet_name= \"Sheet1\")"
   ]
  },
  {
   "cell_type": "markdown",
   "metadata": {},
   "source": [
    "## LightGBM Model building - Bayesian hyperparameter search"
   ]
  },
  {
   "cell_type": "code",
   "execution_count": null,
   "metadata": {},
   "outputs": [],
   "source": [
    "ncores=multiprocessing.cpu_count()\n",
    "\n",
    "# Create weights\n",
    "weights = {0: 0.05, 1: 0.95}\n",
    "\n",
    "# log-uniform: understand as search over p = exp(x) by varying x\n",
    "opt_lgb = BayesSearchCV(\n",
    "    lgb.LGBMClassifier(),\n",
    "    {'learning_rate': (0.01, 1.0, 'log-uniform'),\n",
    "     'num_leaves': (2, 128),\n",
    "     'min_child_samples': (1, 100),\n",
    "     'subsample': (0.05, 1.0),\n",
    "     'colsample_bytree': (0.1, 1.0),\n",
    "     'n_estimators': (50, 300),\n",
    "     },\n",
    "    n_iter=100,\n",
    "    cv=cv,\n",
    "    scoring = \"recall\",\n",
    "    verbose=0,\n",
    "    random_state=42, \n",
    "    n_jobs = ncores\n",
    ")\n",
    "\n",
    "opt_lgb.fit(x_tr, y_tr)\n",
    "\n",
    "print(\"val. score: %s\" % opt_lgb.best_score_)\n",
    "print(\"test score: %s\" % opt_lgb.score(x_ts, y_ts))\n",
    "print(\"Best params: %s\" % opt_lgb.best_params_)"
   ]
  },
  {
   "cell_type": "markdown",
   "metadata": {},
   "source": [
    "### Save model"
   ]
  },
  {
   "cell_type": "code",
   "execution_count": null,
   "metadata": {},
   "outputs": [],
   "source": [
    "lgb = opt_lgb.best_estimator_"
   ]
  },
  {
   "cell_type": "code",
   "execution_count": null,
   "metadata": {},
   "outputs": [],
   "source": [
    "#Save model - pkl file\n",
    "joblib.dump(lgb, \"../models/binary_lgb_maccs_tgr_oversampling_smote_recall.pkl\", compress=3)"
   ]
  },
  {
   "cell_type": "markdown",
   "metadata": {},
   "source": [
    "### Statistics - Morgan-LGB"
   ]
  },
  {
   "cell_type": "code",
   "execution_count": null,
   "metadata": {},
   "outputs": [],
   "source": [
    "# predict Outcome class\n",
    "#pred_lgb = lgb.predict(x_ts)"
   ]
  },
  {
   "cell_type": "code",
   "execution_count": null,
   "metadata": {},
   "outputs": [],
   "source": [
    "#Store the predicted probabilities for class 1\n",
    "pred_lgb = lgb.predict_proba(x_ts)[:, 1] > 0.5"
   ]
  },
  {
   "cell_type": "code",
   "execution_count": null,
   "metadata": {},
   "outputs": [],
   "source": [
    "# save confusion matrix and slice into four pieces\n",
    "confusion = metrics.confusion_matrix(y_ts, pred_lgb)\n",
    "print(confusion)"
   ]
  },
  {
   "cell_type": "code",
   "execution_count": null,
   "metadata": {},
   "outputs": [],
   "source": [
    "#[row, column]\n",
    "TP = confusion[1, 1]\n",
    "TN = confusion[0, 0]\n",
    "FP = confusion[0, 1]\n",
    "FN = confusion[1, 0]"
   ]
  },
  {
   "cell_type": "code",
   "execution_count": null,
   "metadata": {},
   "outputs": [],
   "source": [
    "# calc statistics\n",
    "accuracy = accuracy_score(y_ts, pred_lgb) #accuracy\n",
    "mcc = matthews_corrcoef(y_ts, pred_lgb) #mcc\n",
    "kappa = cohen_kappa_score(y_ts, pred_lgb) #kappa\n",
    "sensitivity = metrics.recall_score(y_ts, pred_lgb) #Sensitivity\n",
    "specificity = TN / (TN + FP) #Specificity\n",
    "precision = TP / float(TP + FP) #Precision\n",
    "positive_pred_value = TP / float(TP + FP) #PPV\n",
    "negative_pred_value = TN / float(TN + FN) #NPV\n",
    "auc = metrics.roc_auc_score(y_ts, pred_lgb) #AUC\n",
    "bacc = metrics.balanced_accuracy_score(y_ts, pred_lgb) # balanced accuracy\n",
    "f1 = metrics.f1_score(y_ts, pred_lgb) # F1-score\n",
    "\n",
    "print(\"Accuracy = \", accuracy)\n",
    "print(\"MCC = \", mcc)\n",
    "print(\"Kappa = \", kappa)\n",
    "print(\"Sensitivity = \", sensitivity)\n",
    "print(\"Specificity = \", specificity)\n",
    "print(\"Precision = \", precision)\n",
    "print(\"PPV = \", positive_pred_value)\n",
    "print(\"NPV = \", negative_pred_value)\n",
    "print(\"AUC = \", metrics.roc_auc_score(y_ts, pred_lgb))\n",
    "print(\"Balanced accuracy = \", bacc)\n",
    "print(\"F1-score = \", f1)"
   ]
  },
  {
   "cell_type": "code",
   "execution_count": null,
   "metadata": {},
   "outputs": [],
   "source": [
    "sns.set_style(\"whitegrid\")\n",
    "stats = [accuracy, mcc, kappa, sensitivity, specificity, positive_pred_value, negative_pred_value, bacc, f1, auc]\n",
    "labels = [\"Acc\", \"MCC\", \"Kappa\", \"Se\", \"Sp\", \"PPV\", \"NPV\", 'Bal-acc', \"F1\",'AUC']\n",
    "report = sns.barplot(x=labels, y=stats)\n",
    "plt.savefig('../results/binary_report_lgb_maccs_tgr_oversampling_smote_recall.png', dpi=300)"
   ]
  },
  {
   "cell_type": "code",
   "execution_count": null,
   "metadata": {},
   "outputs": [],
   "source": [
    "#converting calculated metrics into a pandas dataframe\n",
    "metrics_lgb = DataFrame({'Accuracy': accuracy, 'MCC': mcc, 'Kappa': kappa,\n",
    "                    , \"Sensitivity\": sensitivity,\"Specificity\": specificity, \"Precision\": precision, \"PPV\": positive_pred_value,\n",
    "                    \"NPV\": negative_pred_value, 'Bal-acc':bacc, 'F1-score': f1,'AUC': auc}, index=[0])"
   ]
  },
  {
   "cell_type": "code",
   "execution_count": null,
   "metadata": {},
   "outputs": [],
   "source": [
    "# Print the dataframe\n",
    "metrics_lgb"
   ]
  },
  {
   "cell_type": "code",
   "execution_count": null,
   "metadata": {},
   "outputs": [],
   "source": [
    "# Saving the dataframe as excel file\n",
    "metrics_lgb.to_excel(\"../results/binary_metrics_lgb_maccs_tgr_oversampling_smote_recall.xlsx\", sheet_name= \"Sheet1\")"
   ]
  },
  {
   "cell_type": "code",
   "execution_count": null,
   "metadata": {},
   "outputs": [],
   "source": []
  }
 ],
 "metadata": {
  "kernelspec": {
   "display_name": "Python 3",
   "language": "python",
   "name": "python3"
  },
  "language_info": {
   "codemirror_mode": {
    "name": "ipython",
    "version": 3
   },
   "file_extension": ".py",
   "mimetype": "text/x-python",
   "name": "python",
   "nbconvert_exporter": "python",
   "pygments_lexer": "ipython3",
   "version": "3.7.6"
  }
 },
 "nbformat": 4,
 "nbformat_minor": 4
}
