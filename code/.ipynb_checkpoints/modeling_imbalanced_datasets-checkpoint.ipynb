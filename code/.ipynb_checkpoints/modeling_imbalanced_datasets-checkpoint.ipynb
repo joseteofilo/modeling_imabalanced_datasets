{
 "cells": [
  {
   "cell_type": "markdown",
   "metadata": {},
   "source": [
    "# <font color='white'> Modeling Imbalanced Data Sets in Python - LabMol </font>\n",
    "\n",
    "Developed by: \n",
    "#### José Teófilo Moreira Filho"
   ]
  },
  {
   "cell_type": "code",
   "execution_count": 1,
   "metadata": {},
   "outputs": [
    {
     "name": "stdout",
     "output_type": "stream",
     "text": [
      "Date:\n",
      " 2020-05-11 18:31:24.981794\n"
     ]
    }
   ],
   "source": [
    "import datetime\n",
    "now = datetime.datetime.now()\n",
    "print(\"Date:\\n\", now)"
   ]
  },
  {
   "cell_type": "markdown",
   "metadata": {},
   "source": [
    "##  Importing packages"
   ]
  },
  {
   "cell_type": "code",
   "execution_count": 2,
   "metadata": {},
   "outputs": [
    {
     "name": "stderr",
     "output_type": "stream",
     "text": [
      "RDKit WARNING: [18:31:35] Enabling RDKit 2019.09.3 jupyter extensions\n",
      "C:\\Users\\tiofi\\PyMOL\\envs\\rdkit2\\lib\\site-packages\\sklearn\\externals\\joblib\\__init__.py:15: FutureWarning: sklearn.externals.joblib is deprecated in 0.21 and will be removed in 0.23. Please import this functionality directly from joblib, which can be installed with: pip install joblib. If this warning is raised when loading pickled models, you may need to re-serialize those models with scikit-learn 0.21+.\n",
      "  warnings.warn(msg, category=FutureWarning)\n"
     ]
    }
   ],
   "source": [
    "# Importing packages \n",
    "from rdkit import Chem, DataStructs\n",
    "from rdkit import Chem\n",
    "from rdkit.Chem import AllChem, Descriptors\n",
    "from rdkit.Chem import PandasTools\n",
    "from rdkit.Chem import MACCSkeys\n",
    "\n",
    "import matplotlib.pyplot as plt\n",
    "import numpy as np\n",
    "import seaborn as sns\n",
    "import pandas as pd\n",
    "from pandas import DataFrame\n",
    "import os\n",
    "\n",
    "import xgboost as xgb\n",
    "import lightgbm as lgb\n",
    "\n",
    "from sklearn.svm import SVC\n",
    "from sklearn.ensemble import RandomForestClassifier, GradientBoostingClassifier\n",
    "from sklearn.model_selection import train_test_split, StratifiedKFold, GridSearchCV\n",
    "from sklearn.preprocessing import StandardScaler\n",
    "from sklearn import metrics\n",
    "from sklearn.metrics import accuracy_score, cohen_kappa_score, matthews_corrcoef, roc_curve, precision_recall_curve, roc_auc_score,make_scorer\n",
    "from sklearn.metrics import f1_score, balanced_accuracy_score\n",
    "from sklearn.externals import joblib\n",
    "from sklearn.model_selection import cross_val_score\n",
    "from sklearn.datasets import load_digits\n",
    "#from sklearn import cross_validation\n",
    "from sklearn.model_selection import cross_val_score\n",
    "from sklearn.metrics import plot_confusion_matrix\n",
    "\n",
    "from imblearn.ensemble import BalancedRandomForestClassifier\n",
    "from imblearn.metrics import geometric_mean_score\n",
    "\n",
    "import multiprocessing\n",
    "\n",
    "from skopt import BayesSearchCV\n",
    "\n",
    "from imblearn.over_sampling import SMOTE\n",
    "from imblearn.over_sampling import ADASYN"
   ]
  },
  {
   "cell_type": "markdown",
   "metadata": {},
   "source": [
    "## Check numbers in each class"
   ]
  },
  {
   "cell_type": "code",
   "execution_count": null,
   "metadata": {},
   "outputs": [],
   "source": [
    "fname = \"../data/LoVo_prep.sdf\""
   ]
  },
  {
   "cell_type": "code",
   "execution_count": null,
   "metadata": {},
   "outputs": [],
   "source": [
    "df = PandasTools.LoadSDF(fname, smilesName='SMILES', includeFingerprints=False)"
   ]
  },
  {
   "cell_type": "code",
   "execution_count": null,
   "metadata": {},
   "outputs": [],
   "source": [
    "df.columns"
   ]
  },
  {
   "cell_type": "code",
   "execution_count": null,
   "metadata": {},
   "outputs": [],
   "source": [
    "# Float column 'pIC50'\n",
    "df[\"is_active\"] = df[\"is_active\"].astype(int)"
   ]
  },
  {
   "cell_type": "code",
   "execution_count": null,
   "metadata": {},
   "outputs": [],
   "source": [
    "# Check numbers in each class\n",
    "target_count = df.is_active.value_counts()\n",
    "print('Class 0:', target_count[0])\n",
    "print('Class 1:', target_count[1])\n",
    "print('Proportion:', round(target_count[0] / target_count[1], 2), ': 1')\n",
    "\n",
    "target_count.plot(kind='bar', title='Count (target)');"
   ]
  },
  {
   "cell_type": "markdown",
   "metadata": {},
   "source": [
    "## PCA before oversampling"
   ]
  },
  {
   "cell_type": "code",
   "execution_count": null,
   "metadata": {},
   "outputs": [],
   "source": [
    "import pandas as pd\n",
    "from rdkit import Chem, DataStructs\n",
    "from rdkit.Chem import AllChem\n",
    "import numpy as np\n",
    "from tqdm import tqdm\n",
    "import seaborn as sns\n",
    "import matplotlib.pyplot as plt"
   ]
  },
  {
   "cell_type": "code",
   "execution_count": null,
   "metadata": {},
   "outputs": [],
   "source": [
    "sns.set(rc={'figure.figsize': (10, 10)})\n",
    "sns.set(font_scale=1.5)\n",
    "sns.set_style('whitegrid')"
   ]
  },
  {
   "cell_type": "code",
   "execution_count": null,
   "metadata": {},
   "outputs": [],
   "source": [
    "def fp_list_from_smiles_list(smiles_list,n_bits=2048):\n",
    "    fp_list = []\n",
    "    for smiles in tqdm(smiles_list):\n",
    "        mol = Chem.MolFromSmiles(smiles)\n",
    "        fp_list.append(fp_as_array(mol,n_bits))\n",
    "    return fp_list\n",
    "\n",
    "def fp_as_array(mol,n_bits=2048):\n",
    "    fp = AllChem.GetMorganFingerprintAsBitVect(mol, 2, nBits=n_bits)\n",
    "    arr = np.zeros((1,), np.int)\n",
    "    DataStructs.ConvertToNumpyArray(fp, arr)\n",
    "    return arr"
   ]
  },
  {
   "cell_type": "code",
   "execution_count": null,
   "metadata": {},
   "outputs": [],
   "source": [
    "fp_list = fp_list_from_smiles_list(df.SMILES)"
   ]
  },
  {
   "cell_type": "code",
   "execution_count": null,
   "metadata": {},
   "outputs": [],
   "source": [
    "from sklearn.decomposition import PCA\n",
    "pca = PCA(n_components=2)\n",
    "crds = pca.fit_transform(fp_list)"
   ]
  },
  {
   "cell_type": "code",
   "execution_count": null,
   "metadata": {},
   "outputs": [],
   "source": [
    "crds_df = pd.DataFrame(crds,columns=[\"PC_1\",\"PC_2\"])\n",
    "crds_df['is_active'] = list(df.is_active)\n",
    "crds_df.head()"
   ]
  },
  {
   "cell_type": "code",
   "execution_count": null,
   "metadata": {},
   "outputs": [],
   "source": [
    "ax = sns.scatterplot(data=crds_df.query(\"is_active == 0\"),x=\"PC_1\",y=\"PC_2\",color='green')\n",
    "ax = sns.scatterplot(data=crds_df.query(\"is_active == 1\"),x=\"PC_1\",y=\"PC_2\",color='red')\n",
    "_ = plt.legend(labels=['Inactive', 'Active'])"
   ]
  },
  {
   "cell_type": "markdown",
   "metadata": {},
   "source": [
    "## Load Data and defining traget column"
   ]
  },
  {
   "cell_type": "code",
   "execution_count": 10,
   "metadata": {},
   "outputs": [],
   "source": [
    "# Reading molecules and activity (0 and 1) from SDF\n",
    "fname = \"../data/LoVo_prep.sdf\"\n",
    "\n",
    "mols = []\n",
    "y = []\n",
    "for mol in Chem.SDMolSupplier(fname):\n",
    "    if mol is not None:\n",
    "        mols.append(mol)\n",
    "        y.append(mol.GetIntProp(\"is_active\")) # target column"
   ]
  },
  {
   "cell_type": "markdown",
   "metadata": {},
   "source": [
    "## Fingerprint calculation"
   ]
  },
  {
   "cell_type": "code",
   "execution_count": 11,
   "metadata": {},
   "outputs": [],
   "source": [
    "# Calculate descriptors (fingerprints) and convert them into numpy array\n",
    "\n",
    "# generate binary Morgan fingerprint with radius 2\n",
    "fp = [AllChem.GetMorganFingerprintAsBitVect(m, 2, 2048) for m in mols]\n",
    "\n",
    "def rdkit_numpy_convert(fp):\n",
    "    output = []\n",
    "    for f in fp:\n",
    "        arr = np.zeros((1,))\n",
    "        DataStructs.ConvertToNumpyArray(f, arr)\n",
    "        output.append(arr)\n",
    "    return np.asarray(output)\n",
    "\n",
    "x = rdkit_numpy_convert(fp)"
   ]
  },
  {
   "cell_type": "code",
   "execution_count": null,
   "metadata": {},
   "outputs": [],
   "source": [
    "\"\"\"# Calculate descriptors (fingerprints) and convert them into numpy array\n",
    "\n",
    "# generate binary Morgan fingerprint with radius 2\n",
    "fp = [MACCSkeys.GenMACCSKeys(m) for m in mols]\n",
    "\n",
    "def rdkit_numpy_convert(fp):\n",
    "    output = []\n",
    "    for f in fp:\n",
    "        arr = np.zeros((1,))\n",
    "        DataStructs.ConvertToNumpyArray(f, arr)\n",
    "        output.append(arr)\n",
    "    return np.asarray(output)\n",
    "    \n",
    "x = rdkit_numpy_convert(fp)\"\"\""
   ]
  },
  {
   "cell_type": "code",
   "execution_count": 12,
   "metadata": {},
   "outputs": [
    {
     "data": {
      "text/plain": [
       "1120"
      ]
     },
     "execution_count": 12,
     "metadata": {},
     "output_type": "execute_result"
    }
   ],
   "source": [
    "# Check the number of compounds\n",
    "len(x)"
   ]
  },
  {
   "cell_type": "code",
   "execution_count": 13,
   "metadata": {},
   "outputs": [
    {
     "data": {
      "text/plain": [
       "0.35267857142857145"
      ]
     },
     "execution_count": 13,
     "metadata": {},
     "output_type": "execute_result"
    }
   ],
   "source": [
    "# check wether the data set is balanced\n",
    "sum(y) / len(y)"
   ]
  },
  {
   "cell_type": "markdown",
   "metadata": {},
   "source": [
    "## Data splitting"
   ]
  },
  {
   "cell_type": "code",
   "execution_count": 14,
   "metadata": {},
   "outputs": [],
   "source": [
    "#Set random seed to make all further calculations reproducible\n",
    "seed = 42"
   ]
  },
  {
   "cell_type": "code",
   "execution_count": 15,
   "metadata": {},
   "outputs": [],
   "source": [
    "# randomly select 20% of compounds as test set\n",
    "x_tr, x_ts, y_tr, y_ts = train_test_split(x, y, test_size=0.20, random_state=seed, stratify=y)"
   ]
  },
  {
   "cell_type": "markdown",
   "metadata": {},
   "source": [
    "## Oversampling"
   ]
  },
  {
   "cell_type": "code",
   "execution_count": null,
   "metadata": {},
   "outputs": [],
   "source": [
    "x_tr, y_tr = SMOTE().fit_resample(x_tr, y_tr)\n",
    "print(x_tr.shape)\n",
    "#print(Y_resampled.shape)\n",
    "print(sum(y_tr)/len(y_tr))"
   ]
  },
  {
   "cell_type": "code",
   "execution_count": null,
   "metadata": {},
   "outputs": [],
   "source": [
    "count_Y = pd.DataFrame(y_tr)\n",
    "count_Y.shape"
   ]
  },
  {
   "cell_type": "markdown",
   "metadata": {},
   "source": [
    "## CV splitting"
   ]
  },
  {
   "cell_type": "code",
   "execution_count": 16,
   "metadata": {},
   "outputs": [],
   "source": [
    "#Create folds for cross-validation\n",
    "cv = StratifiedKFold(n_splits=5, shuffle=True, random_state=42)"
   ]
  },
  {
   "cell_type": "markdown",
   "metadata": {},
   "source": [
    "## Random Forest model generation - Simple model"
   ]
  },
  {
   "cell_type": "markdown",
   "metadata": {},
   "source": [
    "### Model Generation"
   ]
  },
  {
   "cell_type": "code",
   "execution_count": 19,
   "metadata": {},
   "outputs": [
    {
     "data": {
      "text/plain": [
       "RandomForestClassifier(bootstrap=True, ccp_alpha=0.0, class_weight=None,\n",
       "                       criterion='gini', max_depth=None, max_features='auto',\n",
       "                       max_leaf_nodes=None, max_samples=None,\n",
       "                       min_impurity_decrease=0.0, min_impurity_split=None,\n",
       "                       min_samples_leaf=1, min_samples_split=2,\n",
       "                       min_weight_fraction_leaf=0.0, n_estimators=100, n_jobs=8,\n",
       "                       oob_score=False, random_state=42, verbose=0,\n",
       "                       warm_start=False)"
      ]
     },
     "execution_count": 19,
     "metadata": {},
     "output_type": "execute_result"
    }
   ],
   "source": [
    "ncores=multiprocessing.cpu_count()\n",
    "scorer = make_scorer(geometric_mean_score)\n",
    "\n",
    "# log-uniform: understand as search over p = exp(x) by varying x\n",
    "simple_rf = RandomForestClassifier(n_estimators=100, random_state=42, n_jobs = ncores)\n",
    "\n",
    "scores = cross_val_score(simple_rf, x_tr, y_tr, cv=cv, scoring=scorer)\n",
    "scores.mean()\n",
    "\n",
    "simple_rf.fit(x_tr, y_tr)"
   ]
  },
  {
   "cell_type": "markdown",
   "metadata": {},
   "source": [
    "### Statistics"
   ]
  },
  {
   "cell_type": "code",
   "execution_count": 20,
   "metadata": {},
   "outputs": [],
   "source": [
    "# predict Outcome class\n",
    "pred_rf = simple_rf.predict(x_ts)"
   ]
  },
  {
   "cell_type": "code",
   "execution_count": 21,
   "metadata": {},
   "outputs": [
    {
     "name": "stdout",
     "output_type": "stream",
     "text": [
      "[[129  16]\n",
      " [ 19  60]]\n"
     ]
    }
   ],
   "source": [
    "# save confusion matrix and slice into four pieces\n",
    "confusion = metrics.confusion_matrix(y_ts, pred_rf)\n",
    "print(confusion)\n",
    "\n",
    "#[row, column]\n",
    "TP = confusion[1, 1]\n",
    "TN = confusion[0, 0]\n",
    "FP = confusion[0, 1]\n",
    "FN = confusion[1, 0]"
   ]
  },
  {
   "cell_type": "code",
   "execution_count": 23,
   "metadata": {},
   "outputs": [
    {
     "name": "stdout",
     "output_type": "stream",
     "text": [
      "Confusion matrix\n",
      "[[129  16]\n",
      " [ 19  60]]\n"
     ]
    },
    {
     "data": {
      "image/png": "[encoded data removed]",
      "text/plain": [
       "<Figure size 432x288 with 2 Axes>"
      ]
     },
     "metadata": {
      "needs_background": "light"
     },
     "output_type": "display_data"
    }
   ],
   "source": [
    "# Plot non-normalized confusion matrix\n",
    "title = \"Confusion matrix\"\n",
    "disp = plot_confusion_matrix(simple_rf, x_ts, y_ts, display_labels=[0, 1],cmap=plt.cm.Blues)\n",
    "disp.ax_.set_title(title)\n",
    "\n",
    "\n",
    "print(title)\n",
    "print(disp.confusion_matrix)\n",
    "\n",
    "plt.show()"
   ]
  },
  {
   "cell_type": "code",
   "execution_count": 24,
   "metadata": {},
   "outputs": [
    {
     "name": "stdout",
     "output_type": "stream",
     "text": [
      "Accuracy =  0.84375\n",
      "Balanced accuracy =  0.8245744216499346\n",
      "MCC =  0.6550948428219474\n",
      "Kappa =  0.6548080309968298\n",
      "Sensitivity =  0.759493670886076\n",
      "Specificity =  0.8896551724137931\n",
      "PPV =  0.7894736842105263\n",
      "NPV =  0.8716216216216216\n",
      "Precision =  0.7894736842105263\n",
      "F1-score =  0.7741935483870968\n",
      "AUC =  0.8245744216499346\n"
     ]
    }
   ],
   "source": [
    "# calc statistics\n",
    "accuracy = accuracy_score(y_ts, pred_rf) #accuracy\n",
    "mcc = matthews_corrcoef(y_ts, pred_rf) #mcc\n",
    "kappa = cohen_kappa_score(y_ts, pred_rf) #kappa\n",
    "sensitivity = metrics.recall_score(y_ts, pred_rf) #Sensitivity\n",
    "specificity = TN / (TN + FP) #Specificity\n",
    "precision = TP / float(TP + FP) #Precision\n",
    "positive_pred_value = TP / float(TP + FP) #PPV\n",
    "negative_pred_value = TN / float(TN + FN) #NPV\n",
    "auc = metrics.roc_auc_score(y_ts,pred_rf) #AUC\n",
    "bacc = metrics.balanced_accuracy_score(y_ts, pred_rf) # balanced accuracy\n",
    "f1 = metrics.f1_score(y_ts, pred_rf) # F1-score\n",
    "\n",
    "print(\"Accuracy = \", accuracy)\n",
    "print(\"Balanced accuracy = \", bacc)\n",
    "print(\"MCC = \", mcc)\n",
    "print(\"Kappa = \", kappa)\n",
    "print(\"Sensitivity = \", sensitivity)\n",
    "print(\"Specificity = \", specificity)\n",
    "print(\"PPV = \", positive_pred_value)\n",
    "print(\"NPV = \", negative_pred_value)\n",
    "print(\"Precision = \", precision)\n",
    "print(\"F1-score = \", f1)\n",
    "print(\"AUC = \", metrics.roc_auc_score(y_ts, pred_rf))"
   ]
  },
  {
   "cell_type": "code",
   "execution_count": 25,
   "metadata": {},
   "outputs": [
    {
     "data": {
      "image/png": "[encoded data removed]",
      "text/plain": [
       "<Figure size 432x288 with 1 Axes>"
      ]
     },
     "metadata": {},
     "output_type": "display_data"
    }
   ],
   "source": [
    "# Bar graph with metrics\n",
    "sns.set_style(\"whitegrid\")\n",
    "stats = [accuracy, bacc, mcc, kappa, sensitivity, specificity, positive_pred_value, negative_pred_value, auc]\n",
    "labels = [\"Accuracy\", 'Balanced-Accuracy', \"MCC\", \"Kappa\", \"Se\", \"Sp\", \"PPV\", \"NPV\", 'AUC']\n",
    "report = sns.barplot(x=labels, y=stats)"
   ]
  },
  {
   "cell_type": "code",
   "execution_count": 27,
   "metadata": {},
   "outputs": [],
   "source": [
    "#converting calculated metrics into a pandas dataframe\n",
    "metrics_simple_rf = DataFrame({'Accuracy': accuracy, 'Balanced-Accuracy':bacc, 'MCC': mcc, 'Kappa': kappa,\n",
    "                    \"Sensitivity\": sensitivity,\"Specificity\": specificity, \"PPV\": positive_pred_value,\n",
    "                    \"NPV\": negative_pred_value,\"Precision\": precision, 'F1-score': f1,'AUC': auc}, index=[0])"
   ]
  },
  {
   "cell_type": "code",
   "execution_count": 31,
   "metadata": {},
   "outputs": [
    {
     "name": "stdout",
     "output_type": "stream",
     "text": [
      "Metrics_simple_rf:\n"
     ]
    },
    {
     "data": {
      "text/html": [
       "<div>\n",
       "<style scoped>\n",
       "    .dataframe tbody tr th:only-of-type {\n",
       "        vertical-align: middle;\n",
       "    }\n",
       "\n",
       "    .dataframe tbody tr th {\n",
       "        vertical-align: top;\n",
       "    }\n",
       "\n",
       "    .dataframe thead th {\n",
       "        text-align: right;\n",
       "    }\n",
       "</style>\n",
       "<table border=\"1\" class=\"dataframe\">\n",
       "  <thead>\n",
       "    <tr style=\"text-align: right;\">\n",
       "      <th></th>\n",
       "      <th>Accuracy</th>\n",
       "      <th>Balanced-Accuracy</th>\n",
       "      <th>MCC</th>\n",
       "      <th>Kappa</th>\n",
       "      <th>Sensitivity</th>\n",
       "      <th>Specificity</th>\n",
       "      <th>PPV</th>\n",
       "      <th>NPV</th>\n",
       "      <th>Precision</th>\n",
       "      <th>F1-score</th>\n",
       "      <th>AUC</th>\n",
       "    </tr>\n",
       "  </thead>\n",
       "  <tbody>\n",
       "    <tr>\n",
       "      <th>0</th>\n",
       "      <td>0.84375</td>\n",
       "      <td>0.824574</td>\n",
       "      <td>0.655095</td>\n",
       "      <td>0.654808</td>\n",
       "      <td>0.759494</td>\n",
       "      <td>0.889655</td>\n",
       "      <td>0.789474</td>\n",
       "      <td>0.871622</td>\n",
       "      <td>0.789474</td>\n",
       "      <td>0.774194</td>\n",
       "      <td>0.824574</td>\n",
       "    </tr>\n",
       "  </tbody>\n",
       "</table>\n",
       "</div>"
      ],
      "text/plain": [
       "   Accuracy  Balanced-Accuracy       MCC     Kappa  Sensitivity  Specificity  \\\n",
       "0   0.84375           0.824574  0.655095  0.654808     0.759494     0.889655   \n",
       "\n",
       "        PPV       NPV  Precision  F1-score       AUC  \n",
       "0  0.789474  0.871622   0.789474  0.774194  0.824574  "
      ]
     },
     "execution_count": 31,
     "metadata": {},
     "output_type": "execute_result"
    }
   ],
   "source": [
    "print(\"Metrics_simple_rf:\")\n",
    "metrics_simple_rf"
   ]
  },
  {
   "cell_type": "markdown",
   "metadata": {},
   "source": [
    "## Random Forest model generation - Bayesian hyperparameter search"
   ]
  },
  {
   "cell_type": "markdown",
   "metadata": {},
   "source": [
    "### Model Generation"
   ]
  },
  {
   "cell_type": "code",
   "execution_count": 32,
   "metadata": {},
   "outputs": [
    {
     "name": "stderr",
     "output_type": "stream",
     "text": [
      "C:\\Users\\tiofi\\PyMOL\\envs\\rdkit2\\lib\\site-packages\\skopt\\optimizer\\optimizer.py:409: UserWarning: The objective has been evaluated at this point before.\n",
      "  warnings.warn(\"The objective has been evaluated \"\n",
      "C:\\Users\\tiofi\\PyMOL\\envs\\rdkit2\\lib\\site-packages\\skopt\\optimizer\\optimizer.py:409: UserWarning: The objective has been evaluated at this point before.\n",
      "  warnings.warn(\"The objective has been evaluated \"\n"
     ]
    },
    {
     "name": "stdout",
     "output_type": "stream",
     "text": [
      "val. score: 0.8354156654404166\n",
      "test score: 0.8357465422279167\n",
      "Best params: OrderedDict([('max_features', 1340), ('n_estimators', 500)])\n"
     ]
    }
   ],
   "source": [
    "# Using all cores\n",
    "ncores=multiprocessing.cpu_count()\n",
    "scorer = make_scorer(geometric_mean_score)\n",
    "\n",
    "# log-uniform: understand as search over p = exp(x) by varying x\n",
    "opt_rf = BayesSearchCV(\n",
    "    RandomForestClassifier(),\n",
    "    {'max_features': (10, 2048, 'log-uniform'),\n",
    "    'n_estimators': [50, 500]\n",
    "    },\n",
    "    n_iter=30,\n",
    "    cv=cv,\n",
    "    scoring = scorer,\n",
    "    verbose=0,\n",
    "    random_state=42, \n",
    "    n_jobs = ncores\n",
    ")\n",
    "\n",
    "\n",
    "opt_rf.fit(x_tr, y_tr)\n",
    "\n",
    "print(\"val. score: %s\" % opt_rf.best_score_)\n",
    "print(\"test score: %s\" % opt_rf.score(x_ts, y_ts))\n",
    "print(\"Best params: %s\" % opt_rf.best_params_)"
   ]
  },
  {
   "cell_type": "markdown",
   "metadata": {},
   "source": [
    "### Statistics"
   ]
  },
  {
   "cell_type": "code",
   "execution_count": 33,
   "metadata": {},
   "outputs": [],
   "source": [
    "rf = opt_rf.best_estimator_"
   ]
  },
  {
   "cell_type": "code",
   "execution_count": 34,
   "metadata": {},
   "outputs": [],
   "source": [
    "# predict Outcome class\n",
    "pred_rf = rf.predict(x_ts)"
   ]
  },
  {
   "cell_type": "code",
   "execution_count": 35,
   "metadata": {},
   "outputs": [
    {
     "name": "stdout",
     "output_type": "stream",
     "text": [
      "[[127  18]\n",
      " [ 16  63]]\n"
     ]
    }
   ],
   "source": [
    "# save confusion matrix and slice into four pieces\n",
    "confusion = metrics.confusion_matrix(y_ts, pred_rf)\n",
    "print(confusion)"
   ]
  },
  {
   "cell_type": "code",
   "execution_count": 36,
   "metadata": {},
   "outputs": [
    {
     "name": "stdout",
     "output_type": "stream",
     "text": [
      "Confusion matrix\n",
      "[[127  18]\n",
      " [ 16  63]]\n"
     ]
    },
    {
     "data": {
      "image/png": "[encoded data removed]",
      "text/plain": [
       "<Figure size 432x288 with 2 Axes>"
      ]
     },
     "metadata": {},
     "output_type": "display_data"
    }
   ],
   "source": [
    "# Plot non-normalized confusion matrix\n",
    "title = \"Confusion matrix\"\n",
    "disp = plot_confusion_matrix(rf, x_ts, y_ts, display_labels=[0, 1],cmap=plt.cm.Blues)\n",
    "disp.ax_.set_title(title)\n",
    "\n",
    "\n",
    "print(title)\n",
    "print(disp.confusion_matrix)\n",
    "\n",
    "plt.show()"
   ]
  },
  {
   "cell_type": "code",
   "execution_count": 37,
   "metadata": {},
   "outputs": [
    {
     "name": "stdout",
     "output_type": "stream",
     "text": [
      "Accuracy =  0.8482142857142857\n",
      "Balanced accuracy =  0.8366652116979485\n",
      "MCC =  0.6695997092804336\n",
      "Kappa =  0.6694731360124989\n",
      "Sensitivity =  0.7974683544303798\n",
      "Specificity =  0.8896551724137931\n",
      "PPV =  0.7894736842105263\n",
      "NPV =  0.8716216216216216\n",
      "Precision =  0.7894736842105263\n",
      "F1-score =  0.7875\n",
      "AUC =  0.8366652116979485\n"
     ]
    }
   ],
   "source": [
    "# calc statistics\n",
    "accuracy = accuracy_score(y_ts, pred_rf) #accuracy\n",
    "mcc = matthews_corrcoef(y_ts, pred_rf) #mcc\n",
    "kappa = cohen_kappa_score(y_ts, pred_rf) #kappa\n",
    "sensitivity = metrics.recall_score(y_ts, pred_rf) #Sensitivity\n",
    "specificity = TN / (TN + FP) #Specificity\n",
    "precision = TP / float(TP + FP) #Precision\n",
    "positive_pred_value = TP / float(TP + FP) #PPV\n",
    "negative_pred_value = TN / float(TN + FN) #NPV\n",
    "auc = metrics.roc_auc_score(y_ts,pred_rf) #AUC\n",
    "bacc = metrics.balanced_accuracy_score(y_ts, pred_rf) # balanced accuracy\n",
    "f1 = metrics.f1_score(y_ts, pred_rf) # F1-score\n",
    "\n",
    "print(\"Accuracy = \", accuracy)\n",
    "print(\"Balanced accuracy = \", bacc)\n",
    "print(\"MCC = \", mcc)\n",
    "print(\"Kappa = \", kappa)\n",
    "print(\"Sensitivity = \", sensitivity)\n",
    "print(\"Specificity = \", specificity)\n",
    "print(\"PPV = \", positive_pred_value)\n",
    "print(\"NPV = \", negative_pred_value)\n",
    "print(\"Precision = \", precision)\n",
    "print(\"F1-score = \", f1)\n",
    "print(\"AUC = \", metrics.roc_auc_score(y_ts, pred_rf))"
   ]
  },
  {
   "cell_type": "code",
   "execution_count": 38,
   "metadata": {},
   "outputs": [
    {
     "data": {
      "image/png": "[encoded data removed]",
      "text/plain": [
       "<Figure size 432x288 with 1 Axes>"
      ]
     },
     "metadata": {},
     "output_type": "display_data"
    }
   ],
   "source": [
    "# Bar graph with metrics\n",
    "sns.set_style(\"whitegrid\")\n",
    "stats = [accuracy, bacc, mcc, kappa, sensitivity, specificity, positive_pred_value, negative_pred_value, auc]\n",
    "labels = [\"Accuracy\", 'Balanced-Accuracy', \"MCC\", \"Kappa\", \"Se\", \"Sp\", \"PPV\", \"NPV\", 'AUC']\n",
    "report = sns.barplot(x=labels, y=stats)"
   ]
  },
  {
   "cell_type": "code",
   "execution_count": 39,
   "metadata": {},
   "outputs": [],
   "source": [
    "#converting calculated metrics into a pandas dataframe\n",
    "metrics_rf_bayes = DataFrame({'Accuracy': accuracy, 'Balanced-Accuracy':bacc, 'MCC': mcc, 'Kappa': kappa,\n",
    "                    \"Sensitivity\": sensitivity,\"Specificity\": specificity, \"PPV\": positive_pred_value,\n",
    "                    \"NPV\": negative_pred_value,\"Precision\": precision, 'F1-score': f1,'AUC': auc}, index=[0])"
   ]
  },
  {
   "cell_type": "code",
   "execution_count": 43,
   "metadata": {},
   "outputs": [
    {
     "name": "stdout",
     "output_type": "stream",
     "text": [
      "Metrics_simple_rf:\n"
     ]
    },
    {
     "data": {
      "text/html": [
       "<div>\n",
       "<style scoped>\n",
       "    .dataframe tbody tr th:only-of-type {\n",
       "        vertical-align: middle;\n",
       "    }\n",
       "\n",
       "    .dataframe tbody tr th {\n",
       "        vertical-align: top;\n",
       "    }\n",
       "\n",
       "    .dataframe thead th {\n",
       "        text-align: right;\n",
       "    }\n",
       "</style>\n",
       "<table border=\"1\" class=\"dataframe\">\n",
       "  <thead>\n",
       "    <tr style=\"text-align: right;\">\n",
       "      <th></th>\n",
       "      <th>Accuracy</th>\n",
       "      <th>Balanced-Accuracy</th>\n",
       "      <th>MCC</th>\n",
       "      <th>Kappa</th>\n",
       "      <th>Sensitivity</th>\n",
       "      <th>Specificity</th>\n",
       "      <th>PPV</th>\n",
       "      <th>NPV</th>\n",
       "      <th>Precision</th>\n",
       "      <th>F1-score</th>\n",
       "      <th>AUC</th>\n",
       "    </tr>\n",
       "  </thead>\n",
       "  <tbody>\n",
       "    <tr>\n",
       "      <th>0</th>\n",
       "      <td>0.84375</td>\n",
       "      <td>0.824574</td>\n",
       "      <td>0.655095</td>\n",
       "      <td>0.654808</td>\n",
       "      <td>0.759494</td>\n",
       "      <td>0.889655</td>\n",
       "      <td>0.789474</td>\n",
       "      <td>0.871622</td>\n",
       "      <td>0.789474</td>\n",
       "      <td>0.774194</td>\n",
       "      <td>0.824574</td>\n",
       "    </tr>\n",
       "  </tbody>\n",
       "</table>\n",
       "</div>"
      ],
      "text/plain": [
       "   Accuracy  Balanced-Accuracy       MCC     Kappa  Sensitivity  Specificity  \\\n",
       "0   0.84375           0.824574  0.655095  0.654808     0.759494     0.889655   \n",
       "\n",
       "        PPV       NPV  Precision  F1-score       AUC  \n",
       "0  0.789474  0.871622   0.789474  0.774194  0.824574  "
      ]
     },
     "execution_count": 43,
     "metadata": {},
     "output_type": "execute_result"
    }
   ],
   "source": [
    "print(\"Metrics_simple_rf:\")\n",
    "metrics_simple_rf"
   ]
  },
  {
   "cell_type": "code",
   "execution_count": 44,
   "metadata": {},
   "outputs": [
    {
     "name": "stdout",
     "output_type": "stream",
     "text": [
      "Metrics_rf_bayes:\n"
     ]
    },
    {
     "data": {
      "text/html": [
       "<div>\n",
       "<style scoped>\n",
       "    .dataframe tbody tr th:only-of-type {\n",
       "        vertical-align: middle;\n",
       "    }\n",
       "\n",
       "    .dataframe tbody tr th {\n",
       "        vertical-align: top;\n",
       "    }\n",
       "\n",
       "    .dataframe thead th {\n",
       "        text-align: right;\n",
       "    }\n",
       "</style>\n",
       "<table border=\"1\" class=\"dataframe\">\n",
       "  <thead>\n",
       "    <tr style=\"text-align: right;\">\n",
       "      <th></th>\n",
       "      <th>Accuracy</th>\n",
       "      <th>Balanced-Accuracy</th>\n",
       "      <th>MCC</th>\n",
       "      <th>Kappa</th>\n",
       "      <th>Sensitivity</th>\n",
       "      <th>Specificity</th>\n",
       "      <th>PPV</th>\n",
       "      <th>NPV</th>\n",
       "      <th>Precision</th>\n",
       "      <th>F1-score</th>\n",
       "      <th>AUC</th>\n",
       "    </tr>\n",
       "  </thead>\n",
       "  <tbody>\n",
       "    <tr>\n",
       "      <th>0</th>\n",
       "      <td>0.848214</td>\n",
       "      <td>0.836665</td>\n",
       "      <td>0.6696</td>\n",
       "      <td>0.669473</td>\n",
       "      <td>0.797468</td>\n",
       "      <td>0.889655</td>\n",
       "      <td>0.789474</td>\n",
       "      <td>0.871622</td>\n",
       "      <td>0.789474</td>\n",
       "      <td>0.7875</td>\n",
       "      <td>0.836665</td>\n",
       "    </tr>\n",
       "  </tbody>\n",
       "</table>\n",
       "</div>"
      ],
      "text/plain": [
       "   Accuracy  Balanced-Accuracy     MCC     Kappa  Sensitivity  Specificity  \\\n",
       "0  0.848214           0.836665  0.6696  0.669473     0.797468     0.889655   \n",
       "\n",
       "        PPV       NPV  Precision  F1-score       AUC  \n",
       "0  0.789474  0.871622   0.789474    0.7875  0.836665  "
      ]
     },
     "execution_count": 44,
     "metadata": {},
     "output_type": "execute_result"
    }
   ],
   "source": [
    "print(\"Metrics_rf_bayes:\")\n",
    "metrics_rf_bayes"
   ]
  },
  {
   "cell_type": "markdown",
   "metadata": {},
   "source": [
    "## Random Forest model generation - Bayesian hyperparameter search - Class_weight"
   ]
  },
  {
   "cell_type": "markdown",
   "metadata": {},
   "source": [
    "### Model Generation"
   ]
  },
  {
   "cell_type": "code",
   "execution_count": 45,
   "metadata": {},
   "outputs": [
    {
     "name": "stdout",
     "output_type": "stream",
     "text": [
      "Fitting 5 folds for each of 1 candidates, totalling 5 fits\n"
     ]
    },
    {
     "name": "stderr",
     "output_type": "stream",
     "text": [
      "[Parallel(n_jobs=8)]: Using backend LokyBackend with 8 concurrent workers.\n",
      "[Parallel(n_jobs=8)]: Done   2 out of   5 | elapsed:   21.3s remaining:   31.9s\n",
      "[Parallel(n_jobs=8)]: Done   5 out of   5 | elapsed:   21.9s finished\n",
      "[Parallel(n_jobs=8)]: Using backend LokyBackend with 8 concurrent workers.\n"
     ]
    },
    {
     "name": "stdout",
     "output_type": "stream",
     "text": [
      "Fitting 5 folds for each of 1 candidates, totalling 5 fits\n"
     ]
    },
    {
     "name": "stderr",
     "output_type": "stream",
     "text": [
      "[Parallel(n_jobs=8)]: Done   2 out of   5 | elapsed:   46.2s remaining:  1.2min\n",
      "[Parallel(n_jobs=8)]: Done   5 out of   5 | elapsed:   47.1s finished\n",
      "[Parallel(n_jobs=8)]: Using backend LokyBackend with 8 concurrent workers.\n"
     ]
    },
    {
     "name": "stdout",
     "output_type": "stream",
     "text": [
      "Fitting 5 folds for each of 1 candidates, totalling 5 fits\n"
     ]
    },
    {
     "name": "stderr",
     "output_type": "stream",
     "text": [
      "[Parallel(n_jobs=8)]: Done   2 out of   5 | elapsed:   29.1s remaining:   43.8s\n",
      "[Parallel(n_jobs=8)]: Done   5 out of   5 | elapsed:   29.4s finished\n",
      "[Parallel(n_jobs=8)]: Using backend LokyBackend with 8 concurrent workers.\n"
     ]
    },
    {
     "name": "stdout",
     "output_type": "stream",
     "text": [
      "Fitting 5 folds for each of 1 candidates, totalling 5 fits\n"
     ]
    },
    {
     "name": "stderr",
     "output_type": "stream",
     "text": [
      "[Parallel(n_jobs=8)]: Done   2 out of   5 | elapsed:   12.2s remaining:   18.4s\n",
      "[Parallel(n_jobs=8)]: Done   5 out of   5 | elapsed:   12.4s finished\n"
     ]
    },
    {
     "name": "stdout",
     "output_type": "stream",
     "text": [
      "Fitting 5 folds for each of 1 candidates, totalling 5 fits\n"
     ]
    },
    {
     "name": "stderr",
     "output_type": "stream",
     "text": [
      "[Parallel(n_jobs=8)]: Using backend LokyBackend with 8 concurrent workers.\n",
      "[Parallel(n_jobs=8)]: Done   2 out of   5 | elapsed:   24.4s remaining:   36.7s\n",
      "[Parallel(n_jobs=8)]: Done   5 out of   5 | elapsed:   24.8s finished\n",
      "[Parallel(n_jobs=8)]: Using backend LokyBackend with 8 concurrent workers.\n"
     ]
    },
    {
     "name": "stdout",
     "output_type": "stream",
     "text": [
      "Fitting 5 folds for each of 1 candidates, totalling 5 fits\n"
     ]
    },
    {
     "name": "stderr",
     "output_type": "stream",
     "text": [
      "[Parallel(n_jobs=8)]: Done   2 out of   5 | elapsed:   43.5s remaining:  1.1min\n",
      "[Parallel(n_jobs=8)]: Done   5 out of   5 | elapsed:   44.7s finished\n",
      "[Parallel(n_jobs=8)]: Using backend LokyBackend with 8 concurrent workers.\n"
     ]
    },
    {
     "name": "stdout",
     "output_type": "stream",
     "text": [
      "Fitting 5 folds for each of 1 candidates, totalling 5 fits\n"
     ]
    },
    {
     "name": "stderr",
     "output_type": "stream",
     "text": [
      "[Parallel(n_jobs=8)]: Done   2 out of   5 | elapsed:   30.5s remaining:   45.9s\n",
      "[Parallel(n_jobs=8)]: Done   5 out of   5 | elapsed:   31.5s finished\n",
      "[Parallel(n_jobs=8)]: Using backend LokyBackend with 8 concurrent workers.\n"
     ]
    },
    {
     "name": "stdout",
     "output_type": "stream",
     "text": [
      "Fitting 5 folds for each of 1 candidates, totalling 5 fits\n"
     ]
    },
    {
     "name": "stderr",
     "output_type": "stream",
     "text": [
      "[Parallel(n_jobs=8)]: Done   2 out of   5 | elapsed:   32.0s remaining:   48.1s\n",
      "[Parallel(n_jobs=8)]: Done   5 out of   5 | elapsed:   33.2s finished\n",
      "[Parallel(n_jobs=8)]: Using backend LokyBackend with 8 concurrent workers.\n"
     ]
    },
    {
     "name": "stdout",
     "output_type": "stream",
     "text": [
      "Fitting 5 folds for each of 1 candidates, totalling 5 fits\n"
     ]
    },
    {
     "name": "stderr",
     "output_type": "stream",
     "text": [
      "[Parallel(n_jobs=8)]: Done   2 out of   5 | elapsed:   41.1s remaining:  1.0min\n",
      "[Parallel(n_jobs=8)]: Done   5 out of   5 | elapsed:   41.8s finished\n"
     ]
    },
    {
     "name": "stdout",
     "output_type": "stream",
     "text": [
      "Fitting 5 folds for each of 1 candidates, totalling 5 fits\n"
     ]
    },
    {
     "name": "stderr",
     "output_type": "stream",
     "text": [
      "[Parallel(n_jobs=8)]: Using backend LokyBackend with 8 concurrent workers.\n",
      "[Parallel(n_jobs=8)]: Done   2 out of   5 | elapsed:    2.3s remaining:    3.5s\n",
      "[Parallel(n_jobs=8)]: Done   5 out of   5 | elapsed:    2.4s finished\n"
     ]
    },
    {
     "name": "stdout",
     "output_type": "stream",
     "text": [
      "Fitting 5 folds for each of 1 candidates, totalling 5 fits\n"
     ]
    },
    {
     "name": "stderr",
     "output_type": "stream",
     "text": [
      "[Parallel(n_jobs=8)]: Using backend LokyBackend with 8 concurrent workers.\n",
      "[Parallel(n_jobs=8)]: Done   2 out of   5 | elapsed:    0.3s remaining:    0.6s\n",
      "[Parallel(n_jobs=8)]: Done   5 out of   5 | elapsed:    0.4s finished\n"
     ]
    },
    {
     "name": "stdout",
     "output_type": "stream",
     "text": [
      "Fitting 5 folds for each of 1 candidates, totalling 5 fits\n"
     ]
    },
    {
     "name": "stderr",
     "output_type": "stream",
     "text": [
      "[Parallel(n_jobs=8)]: Using backend LokyBackend with 8 concurrent workers.\n",
      "[Parallel(n_jobs=8)]: Done   2 out of   5 | elapsed:    2.5s remaining:    3.8s\n",
      "[Parallel(n_jobs=8)]: Done   5 out of   5 | elapsed:    2.5s finished\n"
     ]
    },
    {
     "name": "stdout",
     "output_type": "stream",
     "text": [
      "Fitting 5 folds for each of 1 candidates, totalling 5 fits\n"
     ]
    },
    {
     "name": "stderr",
     "output_type": "stream",
     "text": [
      "[Parallel(n_jobs=8)]: Using backend LokyBackend with 8 concurrent workers.\n",
      "[Parallel(n_jobs=8)]: Done   2 out of   5 | elapsed:    6.3s remaining:    9.5s\n",
      "[Parallel(n_jobs=8)]: Done   5 out of   5 | elapsed:    6.6s finished\n"
     ]
    },
    {
     "name": "stdout",
     "output_type": "stream",
     "text": [
      "Fitting 5 folds for each of 1 candidates, totalling 5 fits\n"
     ]
    },
    {
     "name": "stderr",
     "output_type": "stream",
     "text": [
      "[Parallel(n_jobs=8)]: Using backend LokyBackend with 8 concurrent workers.\n",
      "[Parallel(n_jobs=8)]: Done   2 out of   5 | elapsed:    0.5s remaining:    0.9s\n",
      "[Parallel(n_jobs=8)]: Done   5 out of   5 | elapsed:    0.6s finished\n"
     ]
    },
    {
     "name": "stdout",
     "output_type": "stream",
     "text": [
      "Fitting 5 folds for each of 1 candidates, totalling 5 fits\n"
     ]
    },
    {
     "name": "stderr",
     "output_type": "stream",
     "text": [
      "[Parallel(n_jobs=8)]: Using backend LokyBackend with 8 concurrent workers.\n",
      "[Parallel(n_jobs=8)]: Done   2 out of   5 | elapsed:    3.4s remaining:    5.1s\n",
      "[Parallel(n_jobs=8)]: Done   5 out of   5 | elapsed:    3.5s finished\n"
     ]
    },
    {
     "name": "stdout",
     "output_type": "stream",
     "text": [
      "Fitting 5 folds for each of 1 candidates, totalling 5 fits\n"
     ]
    },
    {
     "name": "stderr",
     "output_type": "stream",
     "text": [
      "[Parallel(n_jobs=8)]: Using backend LokyBackend with 8 concurrent workers.\n",
      "[Parallel(n_jobs=8)]: Done   2 out of   5 | elapsed:  1.0min remaining:  1.5min\n",
      "[Parallel(n_jobs=8)]: Done   5 out of   5 | elapsed:  1.0min finished\n"
     ]
    },
    {
     "name": "stdout",
     "output_type": "stream",
     "text": [
      "Fitting 5 folds for each of 1 candidates, totalling 5 fits\n"
     ]
    },
    {
     "name": "stderr",
     "output_type": "stream",
     "text": [
      "[Parallel(n_jobs=8)]: Using backend LokyBackend with 8 concurrent workers.\n",
      "[Parallel(n_jobs=8)]: Done   2 out of   5 | elapsed:    0.4s remaining:    0.6s\n",
      "[Parallel(n_jobs=8)]: Done   5 out of   5 | elapsed:    0.4s finished\n"
     ]
    },
    {
     "name": "stdout",
     "output_type": "stream",
     "text": [
      "Fitting 5 folds for each of 1 candidates, totalling 5 fits\n"
     ]
    },
    {
     "name": "stderr",
     "output_type": "stream",
     "text": [
      "[Parallel(n_jobs=8)]: Using backend LokyBackend with 8 concurrent workers.\n",
      "[Parallel(n_jobs=8)]: Done   2 out of   5 | elapsed:    0.3s remaining:    0.5s\n",
      "[Parallel(n_jobs=8)]: Done   5 out of   5 | elapsed:    0.3s finished\n",
      "C:\\Users\\tiofi\\PyMOL\\envs\\rdkit2\\lib\\site-packages\\skopt\\optimizer\\optimizer.py:409: UserWarning: The objective has been evaluated at this point before.\n",
      "  warnings.warn(\"The objective has been evaluated \"\n"
     ]
    },
    {
     "name": "stdout",
     "output_type": "stream",
     "text": [
      "Fitting 5 folds for each of 1 candidates, totalling 5 fits\n"
     ]
    },
    {
     "name": "stderr",
     "output_type": "stream",
     "text": [
      "[Parallel(n_jobs=8)]: Using backend LokyBackend with 8 concurrent workers.\n",
      "[Parallel(n_jobs=8)]: Done   2 out of   5 | elapsed:    3.0s remaining:    4.6s\n",
      "[Parallel(n_jobs=8)]: Done   5 out of   5 | elapsed:    3.1s finished\n"
     ]
    },
    {
     "name": "stdout",
     "output_type": "stream",
     "text": [
      "Fitting 5 folds for each of 1 candidates, totalling 5 fits\n"
     ]
    },
    {
     "name": "stderr",
     "output_type": "stream",
     "text": [
      "[Parallel(n_jobs=8)]: Using backend LokyBackend with 8 concurrent workers.\n",
      "[Parallel(n_jobs=8)]: Done   2 out of   5 | elapsed:    5.6s remaining:    8.5s\n",
      "[Parallel(n_jobs=8)]: Done   5 out of   5 | elapsed:    6.0s finished\n"
     ]
    },
    {
     "name": "stdout",
     "output_type": "stream",
     "text": [
      "Fitting 5 folds for each of 1 candidates, totalling 5 fits\n"
     ]
    },
    {
     "name": "stderr",
     "output_type": "stream",
     "text": [
      "[Parallel(n_jobs=8)]: Using backend LokyBackend with 8 concurrent workers.\n",
      "[Parallel(n_jobs=8)]: Done   2 out of   5 | elapsed:    2.8s remaining:    4.2s\n",
      "[Parallel(n_jobs=8)]: Done   5 out of   5 | elapsed:    3.0s finished\n"
     ]
    },
    {
     "name": "stdout",
     "output_type": "stream",
     "text": [
      "Fitting 5 folds for each of 1 candidates, totalling 5 fits\n"
     ]
    },
    {
     "name": "stderr",
     "output_type": "stream",
     "text": [
      "[Parallel(n_jobs=8)]: Using backend LokyBackend with 8 concurrent workers.\n",
      "[Parallel(n_jobs=8)]: Done   2 out of   5 | elapsed:    2.3s remaining:    3.5s\n",
      "[Parallel(n_jobs=8)]: Done   5 out of   5 | elapsed:    2.4s finished\n",
      "C:\\Users\\tiofi\\PyMOL\\envs\\rdkit2\\lib\\site-packages\\skopt\\optimizer\\optimizer.py:409: UserWarning: The objective has been evaluated at this point before.\n",
      "  warnings.warn(\"The objective has been evaluated \"\n"
     ]
    },
    {
     "name": "stdout",
     "output_type": "stream",
     "text": [
      "Fitting 5 folds for each of 1 candidates, totalling 5 fits\n"
     ]
    },
    {
     "name": "stderr",
     "output_type": "stream",
     "text": [
      "[Parallel(n_jobs=8)]: Using backend LokyBackend with 8 concurrent workers.\n",
      "[Parallel(n_jobs=8)]: Done   2 out of   5 | elapsed:    2.3s remaining:    3.4s\n",
      "[Parallel(n_jobs=8)]: Done   5 out of   5 | elapsed:    2.4s finished\n"
     ]
    },
    {
     "name": "stdout",
     "output_type": "stream",
     "text": [
      "Fitting 5 folds for each of 1 candidates, totalling 5 fits\n"
     ]
    },
    {
     "name": "stderr",
     "output_type": "stream",
     "text": [
      "[Parallel(n_jobs=8)]: Using backend LokyBackend with 8 concurrent workers.\n",
      "[Parallel(n_jobs=8)]: Done   2 out of   5 | elapsed:  1.0min remaining:  1.5min\n",
      "[Parallel(n_jobs=8)]: Done   5 out of   5 | elapsed:  1.0min finished\n"
     ]
    },
    {
     "name": "stdout",
     "output_type": "stream",
     "text": [
      "Fitting 5 folds for each of 1 candidates, totalling 5 fits\n"
     ]
    },
    {
     "name": "stderr",
     "output_type": "stream",
     "text": [
      "[Parallel(n_jobs=8)]: Using backend LokyBackend with 8 concurrent workers.\n",
      "[Parallel(n_jobs=8)]: Done   2 out of   5 | elapsed:   23.9s remaining:   35.9s\n",
      "[Parallel(n_jobs=8)]: Done   5 out of   5 | elapsed:   25.0s finished\n"
     ]
    },
    {
     "name": "stdout",
     "output_type": "stream",
     "text": [
      "Fitting 5 folds for each of 1 candidates, totalling 5 fits\n"
     ]
    },
    {
     "name": "stderr",
     "output_type": "stream",
     "text": [
      "[Parallel(n_jobs=8)]: Using backend LokyBackend with 8 concurrent workers.\n",
      "[Parallel(n_jobs=8)]: Done   2 out of   5 | elapsed:   25.3s remaining:   38.0s\n",
      "[Parallel(n_jobs=8)]: Done   5 out of   5 | elapsed:   25.7s finished\n"
     ]
    },
    {
     "name": "stdout",
     "output_type": "stream",
     "text": [
      "Fitting 5 folds for each of 1 candidates, totalling 5 fits\n"
     ]
    },
    {
     "name": "stderr",
     "output_type": "stream",
     "text": [
      "[Parallel(n_jobs=8)]: Using backend LokyBackend with 8 concurrent workers.\n",
      "[Parallel(n_jobs=8)]: Done   2 out of   5 | elapsed:   30.4s remaining:   45.6s\n",
      "[Parallel(n_jobs=8)]: Done   5 out of   5 | elapsed:   31.5s finished\n",
      "C:\\Users\\tiofi\\PyMOL\\envs\\rdkit2\\lib\\site-packages\\skopt\\optimizer\\optimizer.py:409: UserWarning: The objective has been evaluated at this point before.\n",
      "  warnings.warn(\"The objective has been evaluated \"\n"
     ]
    },
    {
     "name": "stdout",
     "output_type": "stream",
     "text": [
      "Fitting 5 folds for each of 1 candidates, totalling 5 fits\n"
     ]
    },
    {
     "name": "stderr",
     "output_type": "stream",
     "text": [
      "[Parallel(n_jobs=8)]: Using backend LokyBackend with 8 concurrent workers.\n",
      "[Parallel(n_jobs=8)]: Done   2 out of   5 | elapsed:    2.2s remaining:    3.4s\n",
      "[Parallel(n_jobs=8)]: Done   5 out of   5 | elapsed:    2.3s finished\n"
     ]
    },
    {
     "name": "stdout",
     "output_type": "stream",
     "text": [
      "Fitting 5 folds for each of 1 candidates, totalling 5 fits\n"
     ]
    },
    {
     "name": "stderr",
     "output_type": "stream",
     "text": [
      "[Parallel(n_jobs=8)]: Using backend LokyBackend with 8 concurrent workers.\n",
      "[Parallel(n_jobs=8)]: Done   2 out of   5 | elapsed:    1.3s remaining:    1.9s\n",
      "[Parallel(n_jobs=8)]: Done   5 out of   5 | elapsed:    1.3s finished\n"
     ]
    },
    {
     "name": "stdout",
     "output_type": "stream",
     "text": [
      "Fitting 5 folds for each of 1 candidates, totalling 5 fits\n"
     ]
    },
    {
     "name": "stderr",
     "output_type": "stream",
     "text": [
      "[Parallel(n_jobs=8)]: Using backend LokyBackend with 8 concurrent workers.\n",
      "[Parallel(n_jobs=8)]: Done   2 out of   5 | elapsed:   14.7s remaining:   22.1s\n",
      "[Parallel(n_jobs=8)]: Done   5 out of   5 | elapsed:   15.4s finished\n"
     ]
    },
    {
     "name": "stdout",
     "output_type": "stream",
     "text": [
      "val. score: 0.8306621952519117\n",
      "test score: 0.8320301173073628\n",
      "Best params: OrderedDict([('max_features', 846), ('n_estimators', 377)])\n"
     ]
    }
   ],
   "source": [
    "ncores=multiprocessing.cpu_count()\n",
    "scorer = make_scorer(geometric_mean_score)\n",
    "\n",
    "# log-uniform: understand as search over p = exp(x) by varying x\n",
    "opt_rf = BayesSearchCV(\n",
    "    RandomForestClassifier(class_weight=\"balanced\"),\n",
    "    {'max_features': (10, 2048, 'log-uniform'),\n",
    "    'n_estimators': [50, 500]\n",
    "    },\n",
    "    n_iter=30,\n",
    "    cv=cv,\n",
    "    scoring = scorer,\n",
    "    verbose=1,\n",
    "    random_state=42, \n",
    "    n_jobs = ncores\n",
    ")\n",
    "\n",
    "\n",
    "opt_rf.fit(x_tr, y_tr)\n",
    "\n",
    "print(\"val. score: %s\" % opt_rf.best_score_)\n",
    "print(\"test score: %s\" % opt_rf.score(x_ts, y_ts))\n",
    "print(\"Best params: %s\" % opt_rf.best_params_)"
   ]
  },
  {
   "cell_type": "markdown",
   "metadata": {},
   "source": [
    "### Statistics"
   ]
  },
  {
   "cell_type": "code",
   "execution_count": 46,
   "metadata": {},
   "outputs": [],
   "source": [
    "rf_class_weight = opt_rf.best_estimator_"
   ]
  },
  {
   "cell_type": "code",
   "execution_count": 47,
   "metadata": {},
   "outputs": [],
   "source": [
    "# predict Outcome class\n",
    "pred_rf = rf_class_weight.predict(x_ts)"
   ]
  },
  {
   "cell_type": "code",
   "execution_count": 48,
   "metadata": {},
   "outputs": [],
   "source": [
    "#Store the predicted probabilities for class 1\n",
    "#pred_rf = rf.predict_proba(x_ts)[:, 1] > 0.5"
   ]
  },
  {
   "cell_type": "code",
   "execution_count": 49,
   "metadata": {},
   "outputs": [
    {
     "name": "stdout",
     "output_type": "stream",
     "text": [
      "[[122  23]\n",
      " [ 14  65]]\n"
     ]
    }
   ],
   "source": [
    "# save confusion matrix and slice into four pieces\n",
    "confusion = metrics.confusion_matrix(y_ts, pred_rf)\n",
    "print(confusion)"
   ]
  },
  {
   "cell_type": "code",
   "execution_count": 50,
   "metadata": {},
   "outputs": [],
   "source": [
    "#[row, column]\n",
    "TP = confusion[1, 1]\n",
    "TN = confusion[0, 0]\n",
    "FP = confusion[0, 1]\n",
    "FN = confusion[1, 0]"
   ]
  },
  {
   "cell_type": "code",
   "execution_count": 51,
   "metadata": {},
   "outputs": [
    {
     "name": "stdout",
     "output_type": "stream",
     "text": [
      "Confusion matrix\n",
      "[[122  23]\n",
      " [ 14  65]]\n"
     ]
    },
    {
     "data": {
      "image/png": "[encoded data removed]",
      "text/plain": [
       "<Figure size 432x288 with 2 Axes>"
      ]
     },
     "metadata": {},
     "output_type": "display_data"
    }
   ],
   "source": [
    "# Plot non-normalized confusion matrix\n",
    "title = \"Confusion matrix\"\n",
    "disp = plot_confusion_matrix(rf_class_weight, x_ts, y_ts, display_labels=[0, 1],cmap=plt.cm.Blues)\n",
    "disp.ax_.set_title(title)\n",
    "\n",
    "\n",
    "print(title)\n",
    "print(disp.confusion_matrix)\n",
    "\n",
    "plt.show()"
   ]
  },
  {
   "cell_type": "code",
   "execution_count": 52,
   "metadata": {},
   "outputs": [
    {
     "name": "stdout",
     "output_type": "stream",
     "text": [
      "Accuracy =  0.8348214285714286\n",
      "Balanced accuracy =  0.832082060235705\n",
      "MCC =  0.6497737566814048\n",
      "Kappa =  0.6473791695030633\n",
      "Sensitivity =  0.8227848101265823\n",
      "Specificity =  0.8413793103448276\n",
      "PPV =  0.7386363636363636\n",
      "NPV =  0.8970588235294118\n",
      "Precision =  0.7386363636363636\n",
      "F1-score =  0.7784431137724551\n",
      "AUC =  0.832082060235705\n"
     ]
    }
   ],
   "source": [
    "# calc statistics\n",
    "accuracy = accuracy_score(y_ts, pred_rf) #accuracy\n",
    "mcc = matthews_corrcoef(y_ts, pred_rf) #mcc\n",
    "kappa = cohen_kappa_score(y_ts, pred_rf) #kappa\n",
    "sensitivity = metrics.recall_score(y_ts, pred_rf) #Sensitivity\n",
    "specificity = TN / (TN + FP) #Specificity\n",
    "precision = TP / float(TP + FP) #Precision\n",
    "positive_pred_value = TP / float(TP + FP) #PPV\n",
    "negative_pred_value = TN / float(TN + FN) #NPV\n",
    "auc = metrics.roc_auc_score(y_ts,pred_rf) #AUC\n",
    "bacc = metrics.balanced_accuracy_score(y_ts, pred_rf) # balanced accuracy\n",
    "f1 = metrics.f1_score(y_ts, pred_rf) # F1-score\n",
    "\n",
    "print(\"Accuracy = \", accuracy)\n",
    "print(\"Balanced accuracy = \", bacc)\n",
    "print(\"MCC = \", mcc)\n",
    "print(\"Kappa = \", kappa)\n",
    "print(\"Sensitivity = \", sensitivity)\n",
    "print(\"Specificity = \", specificity)\n",
    "print(\"PPV = \", positive_pred_value)\n",
    "print(\"NPV = \", negative_pred_value)\n",
    "print(\"Precision = \", precision)\n",
    "print(\"F1-score = \", f1)\n",
    "print(\"AUC = \", metrics.roc_auc_score(y_ts, pred_rf))"
   ]
  },
  {
   "cell_type": "code",
   "execution_count": 53,
   "metadata": {},
   "outputs": [
    {
     "data": {
      "image/png": "[encoded data removed]",
      "text/plain": [
       "<Figure size 432x288 with 1 Axes>"
      ]
     },
     "metadata": {},
     "output_type": "display_data"
    }
   ],
   "source": [
    "# Bar graph with metrics\n",
    "sns.set_style(\"whitegrid\")\n",
    "stats = [accuracy, bacc, mcc, kappa, sensitivity, specificity, positive_pred_value, negative_pred_value, auc]\n",
    "labels = [\"Accuracy\", 'Balanced-Accuracy', \"MCC\", \"Kappa\", \"Se\", \"Sp\", \"PPV\", \"NPV\", 'AUC']\n",
    "report = sns.barplot(x=labels, y=stats)"
   ]
  },
  {
   "cell_type": "code",
   "execution_count": 54,
   "metadata": {},
   "outputs": [],
   "source": [
    "#converting calculated metrics into a pandas dataframe\n",
    "metrics_rf_bayes_class_weight = DataFrame({'Accuracy': accuracy, 'Balanced-Accuracy':bacc, 'MCC': mcc, 'Kappa': kappa,\n",
    "                    \"Sensitivity\": sensitivity,\"Specificity\": specificity, \"PPV\": positive_pred_value,\n",
    "                    \"NPV\": negative_pred_value,\"Precision\": precision, 'F1-score': f1,'AUC': auc}, index=[0])"
   ]
  },
  {
   "cell_type": "code",
   "execution_count": 55,
   "metadata": {},
   "outputs": [
    {
     "name": "stdout",
     "output_type": "stream",
     "text": [
      "Metrics_simple_rf:\n"
     ]
    },
    {
     "data": {
      "text/html": [
       "<div>\n",
       "<style scoped>\n",
       "    .dataframe tbody tr th:only-of-type {\n",
       "        vertical-align: middle;\n",
       "    }\n",
       "\n",
       "    .dataframe tbody tr th {\n",
       "        vertical-align: top;\n",
       "    }\n",
       "\n",
       "    .dataframe thead th {\n",
       "        text-align: right;\n",
       "    }\n",
       "</style>\n",
       "<table border=\"1\" class=\"dataframe\">\n",
       "  <thead>\n",
       "    <tr style=\"text-align: right;\">\n",
       "      <th></th>\n",
       "      <th>Accuracy</th>\n",
       "      <th>Balanced-Accuracy</th>\n",
       "      <th>MCC</th>\n",
       "      <th>Kappa</th>\n",
       "      <th>Sensitivity</th>\n",
       "      <th>Specificity</th>\n",
       "      <th>PPV</th>\n",
       "      <th>NPV</th>\n",
       "      <th>Precision</th>\n",
       "      <th>F1-score</th>\n",
       "      <th>AUC</th>\n",
       "    </tr>\n",
       "  </thead>\n",
       "  <tbody>\n",
       "    <tr>\n",
       "      <th>0</th>\n",
       "      <td>0.84375</td>\n",
       "      <td>0.824574</td>\n",
       "      <td>0.655095</td>\n",
       "      <td>0.654808</td>\n",
       "      <td>0.759494</td>\n",
       "      <td>0.889655</td>\n",
       "      <td>0.789474</td>\n",
       "      <td>0.871622</td>\n",
       "      <td>0.789474</td>\n",
       "      <td>0.774194</td>\n",
       "      <td>0.824574</td>\n",
       "    </tr>\n",
       "  </tbody>\n",
       "</table>\n",
       "</div>"
      ],
      "text/plain": [
       "   Accuracy  Balanced-Accuracy       MCC     Kappa  Sensitivity  Specificity  \\\n",
       "0   0.84375           0.824574  0.655095  0.654808     0.759494     0.889655   \n",
       "\n",
       "        PPV       NPV  Precision  F1-score       AUC  \n",
       "0  0.789474  0.871622   0.789474  0.774194  0.824574  "
      ]
     },
     "execution_count": 55,
     "metadata": {},
     "output_type": "execute_result"
    }
   ],
   "source": [
    "print(\"Metrics_simple_rf:\")\n",
    "metrics_simple_rf"
   ]
  },
  {
   "cell_type": "code",
   "execution_count": 56,
   "metadata": {},
   "outputs": [
    {
     "name": "stdout",
     "output_type": "stream",
     "text": [
      "Metrics_rf_bayes:\n"
     ]
    },
    {
     "data": {
      "text/html": [
       "<div>\n",
       "<style scoped>\n",
       "    .dataframe tbody tr th:only-of-type {\n",
       "        vertical-align: middle;\n",
       "    }\n",
       "\n",
       "    .dataframe tbody tr th {\n",
       "        vertical-align: top;\n",
       "    }\n",
       "\n",
       "    .dataframe thead th {\n",
       "        text-align: right;\n",
       "    }\n",
       "</style>\n",
       "<table border=\"1\" class=\"dataframe\">\n",
       "  <thead>\n",
       "    <tr style=\"text-align: right;\">\n",
       "      <th></th>\n",
       "      <th>Accuracy</th>\n",
       "      <th>Balanced-Accuracy</th>\n",
       "      <th>MCC</th>\n",
       "      <th>Kappa</th>\n",
       "      <th>Sensitivity</th>\n",
       "      <th>Specificity</th>\n",
       "      <th>PPV</th>\n",
       "      <th>NPV</th>\n",
       "      <th>Precision</th>\n",
       "      <th>F1-score</th>\n",
       "      <th>AUC</th>\n",
       "    </tr>\n",
       "  </thead>\n",
       "  <tbody>\n",
       "    <tr>\n",
       "      <th>0</th>\n",
       "      <td>0.848214</td>\n",
       "      <td>0.836665</td>\n",
       "      <td>0.6696</td>\n",
       "      <td>0.669473</td>\n",
       "      <td>0.797468</td>\n",
       "      <td>0.889655</td>\n",
       "      <td>0.789474</td>\n",
       "      <td>0.871622</td>\n",
       "      <td>0.789474</td>\n",
       "      <td>0.7875</td>\n",
       "      <td>0.836665</td>\n",
       "    </tr>\n",
       "  </tbody>\n",
       "</table>\n",
       "</div>"
      ],
      "text/plain": [
       "   Accuracy  Balanced-Accuracy     MCC     Kappa  Sensitivity  Specificity  \\\n",
       "0  0.848214           0.836665  0.6696  0.669473     0.797468     0.889655   \n",
       "\n",
       "        PPV       NPV  Precision  F1-score       AUC  \n",
       "0  0.789474  0.871622   0.789474    0.7875  0.836665  "
      ]
     },
     "execution_count": 56,
     "metadata": {},
     "output_type": "execute_result"
    }
   ],
   "source": [
    "print(\"Metrics_rf_bayes:\")\n",
    "metrics_rf_bayes"
   ]
  },
  {
   "cell_type": "code",
   "execution_count": 57,
   "metadata": {},
   "outputs": [
    {
     "name": "stdout",
     "output_type": "stream",
     "text": [
      "Metrics_rf_bayes_class_weight:\n"
     ]
    },
    {
     "data": {
      "text/html": [
       "<div>\n",
       "<style scoped>\n",
       "    .dataframe tbody tr th:only-of-type {\n",
       "        vertical-align: middle;\n",
       "    }\n",
       "\n",
       "    .dataframe tbody tr th {\n",
       "        vertical-align: top;\n",
       "    }\n",
       "\n",
       "    .dataframe thead th {\n",
       "        text-align: right;\n",
       "    }\n",
       "</style>\n",
       "<table border=\"1\" class=\"dataframe\">\n",
       "  <thead>\n",
       "    <tr style=\"text-align: right;\">\n",
       "      <th></th>\n",
       "      <th>Accuracy</th>\n",
       "      <th>Balanced-Accuracy</th>\n",
       "      <th>MCC</th>\n",
       "      <th>Kappa</th>\n",
       "      <th>Sensitivity</th>\n",
       "      <th>Specificity</th>\n",
       "      <th>PPV</th>\n",
       "      <th>NPV</th>\n",
       "      <th>Precision</th>\n",
       "      <th>F1-score</th>\n",
       "      <th>AUC</th>\n",
       "    </tr>\n",
       "  </thead>\n",
       "  <tbody>\n",
       "    <tr>\n",
       "      <th>0</th>\n",
       "      <td>0.834821</td>\n",
       "      <td>0.832082</td>\n",
       "      <td>0.649774</td>\n",
       "      <td>0.647379</td>\n",
       "      <td>0.822785</td>\n",
       "      <td>0.841379</td>\n",
       "      <td>0.738636</td>\n",
       "      <td>0.897059</td>\n",
       "      <td>0.738636</td>\n",
       "      <td>0.778443</td>\n",
       "      <td>0.832082</td>\n",
       "    </tr>\n",
       "  </tbody>\n",
       "</table>\n",
       "</div>"
      ],
      "text/plain": [
       "   Accuracy  Balanced-Accuracy       MCC     Kappa  Sensitivity  Specificity  \\\n",
       "0  0.834821           0.832082  0.649774  0.647379     0.822785     0.841379   \n",
       "\n",
       "        PPV       NPV  Precision  F1-score       AUC  \n",
       "0  0.738636  0.897059   0.738636  0.778443  0.832082  "
      ]
     },
     "execution_count": 57,
     "metadata": {},
     "output_type": "execute_result"
    }
   ],
   "source": [
    "print(\"Metrics_rf_bayes_class_weight:\")\n",
    "metrics_rf_bayes_class_weight"
   ]
  },
  {
   "cell_type": "markdown",
   "metadata": {},
   "source": [
    "## Support Vector Machine model generation - Bayesian hyperparameter search - Class_weight"
   ]
  },
  {
   "cell_type": "markdown",
   "metadata": {},
   "source": [
    "### Model Generation"
   ]
  },
  {
   "cell_type": "code",
   "execution_count": 59,
   "metadata": {},
   "outputs": [
    {
     "name": "stdout",
     "output_type": "stream",
     "text": [
      "val. score: 0.8347730008311037\n",
      "test score: 0.8342828869150972\n",
      "Best params: OrderedDict([('max_features', 846), ('n_estimators', 377)])\n"
     ]
    }
   ],
   "source": [
    "ncores=multiprocessing.cpu_count()\n",
    "scorer = make_scorer(geometric_mean_score)\n",
    "\n",
    "# log-uniform: understand as search over p = exp(x) by varying x\n",
    "opt_svm = BayesSearchCV(\n",
    "    SVC(probability=True, class_weight=\"balanced\"),\n",
    "    {\n",
    "        'C': (1e-6, 1e+6, 'log-uniform'),\n",
    "        'gamma': (1e-6, 1e+1, 'log-uniform'),\n",
    "        'degree': (1, 8),  # integer valued parameter\n",
    "        'kernel': ['rbf'],  # categorical parameter | ['linear', 'poly', 'rbf'] to test all kernels\n",
    "    },\n",
    "    n_iter=30,\n",
    "    cv=cv,\n",
    "    scoring = scorer,\n",
    "    n_jobs = ncores\n",
    ")\n",
    "\n",
    "opt_svm.fit(x_tr, y_tr)\n",
    "\n",
    "print(\"val. score: %s\" % opt_svm.best_score_)\n",
    "print(\"test score: %s\" % opt_svm.score(x_ts, y_ts))\n",
    "print(\"Best params: %s\" % opt_rf.best_params_)"
   ]
  },
  {
   "cell_type": "code",
   "execution_count": 60,
   "metadata": {},
   "outputs": [],
   "source": [
    "svm = opt_svm.best_estimator_"
   ]
  },
  {
   "cell_type": "markdown",
   "metadata": {},
   "source": [
    "### Statistics"
   ]
  },
  {
   "cell_type": "code",
   "execution_count": 61,
   "metadata": {},
   "outputs": [],
   "source": [
    "# predict Outcome class\n",
    "pred_svm = svm.predict(x_ts)"
   ]
  },
  {
   "cell_type": "code",
   "execution_count": 62,
   "metadata": {},
   "outputs": [],
   "source": [
    "#Store the predicted probabilities for class 1\n",
    "#pred_svm = svm.predict_proba(x_ts)[:, 1] > 0.5"
   ]
  },
  {
   "cell_type": "code",
   "execution_count": 63,
   "metadata": {},
   "outputs": [
    {
     "name": "stdout",
     "output_type": "stream",
     "text": [
      "[[119  26]\n",
      " [ 12  67]]\n"
     ]
    }
   ],
   "source": [
    "# save confusion matrix and slice into four pieces\n",
    "confusion = metrics.confusion_matrix(y_ts, pred_svm)\n",
    "print(confusion)"
   ]
  },
  {
   "cell_type": "code",
   "execution_count": 64,
   "metadata": {},
   "outputs": [],
   "source": [
    "#[row, column]\n",
    "TP = confusion[1, 1]\n",
    "TN = confusion[0, 0]\n",
    "FP = confusion[0, 1]\n",
    "FN = confusion[1, 0]"
   ]
  },
  {
   "cell_type": "code",
   "execution_count": 65,
   "metadata": {},
   "outputs": [
    {
     "name": "stdout",
     "output_type": "stream",
     "text": [
      "Accuracy =  0.8303571428571429\n",
      "Balanced accuracy =  0.8343954604975993\n",
      "MCC =  0.6485012140719018\n",
      "Kappa =  0.642863136695477\n",
      "Sensitivity =  0.8481012658227848\n",
      "Specificity =  0.8206896551724138\n",
      "PPV =  0.7204301075268817\n",
      "NPV =  0.9083969465648855\n",
      "Precision =  0.7204301075268817\n",
      "F1-score =  0.7790697674418606\n",
      "AUC =  0.832082060235705\n"
     ]
    }
   ],
   "source": [
    "# calc statistics\n",
    "accuracy = accuracy_score(y_ts, pred_svm) #accuracy\n",
    "mcc = matthews_corrcoef(y_ts, pred_svm) #mcc\n",
    "kappa = cohen_kappa_score(y_ts, pred_svm) #kappa\n",
    "sensitivity = metrics.recall_score(y_ts, pred_svm) #Sensitivity\n",
    "specificity = TN / (TN + FP) #Specificity\n",
    "precision = TP / float(TP + FP) #Precision\n",
    "positive_pred_value = TP / float(TP + FP) #PPV\n",
    "negative_pred_value = TN / float(TN + FN) #NPV\n",
    "bacc = metrics.balanced_accuracy_score(y_ts, pred_svm) # balanced accuracy\n",
    "f1 = metrics.f1_score(y_ts, pred_svm) # F1-score\n",
    "auc = metrics.roc_auc_score(y_ts, pred_svm) #AUC\n",
    "\n",
    "print(\"Accuracy = \", accuracy)\n",
    "print(\"Balanced accuracy = \", bacc)\n",
    "print(\"MCC = \", mcc)\n",
    "print(\"Kappa = \", kappa)\n",
    "print(\"Sensitivity = \", sensitivity)\n",
    "print(\"Specificity = \", specificity)\n",
    "print(\"PPV = \", positive_pred_value)\n",
    "print(\"NPV = \", negative_pred_value)\n",
    "print(\"Precision = \", precision)\n",
    "print(\"F1-score = \", f1)\n",
    "print(\"AUC = \", metrics.roc_auc_score(y_ts, pred_rf))"
   ]
  },
  {
   "cell_type": "code",
   "execution_count": 66,
   "metadata": {},
   "outputs": [
    {
     "data": {
      "image/png": "[encoded data removed]",
      "text/plain": [
       "<Figure size 432x288 with 1 Axes>"
      ]
     },
     "metadata": {},
     "output_type": "display_data"
    }
   ],
   "source": [
    "# Bar graph with metrics\n",
    "sns.set_style(\"whitegrid\")\n",
    "stats = [accuracy, bacc, mcc, kappa, sensitivity, specificity, positive_pred_value, negative_pred_value, auc]\n",
    "labels = [\"Accuracy\", 'Balanced-Accuracy', \"MCC\", \"Kappa\", \"Se\", \"Sp\", \"PPV\", \"NPV\", 'AUC']\n",
    "report = sns.barplot(x=labels, y=stats)"
   ]
  },
  {
   "cell_type": "code",
   "execution_count": 67,
   "metadata": {},
   "outputs": [],
   "source": [
    "#converting calculated metrics into a pandas dataframe\n",
    "metrics_svm = DataFrame({'Accuracy': accuracy, 'Balanced-Accuracy':bacc, 'MCC': mcc, 'Kappa': kappa,\n",
    "                    \"Sensitivity\": sensitivity,\"Specificity\": specificity, \"PPV\": positive_pred_value,\n",
    "                    \"NPV\": negative_pred_value,\"Precision\": precision, 'F1-score': f1,'AUC': auc}, index=[0])"
   ]
  },
  {
   "cell_type": "code",
   "execution_count": 68,
   "metadata": {},
   "outputs": [
    {
     "name": "stdout",
     "output_type": "stream",
     "text": [
      "Metrics_simple_rf:\n"
     ]
    },
    {
     "data": {
      "text/html": [
       "<div>\n",
       "<style scoped>\n",
       "    .dataframe tbody tr th:only-of-type {\n",
       "        vertical-align: middle;\n",
       "    }\n",
       "\n",
       "    .dataframe tbody tr th {\n",
       "        vertical-align: top;\n",
       "    }\n",
       "\n",
       "    .dataframe thead th {\n",
       "        text-align: right;\n",
       "    }\n",
       "</style>\n",
       "<table border=\"1\" class=\"dataframe\">\n",
       "  <thead>\n",
       "    <tr style=\"text-align: right;\">\n",
       "      <th></th>\n",
       "      <th>Accuracy</th>\n",
       "      <th>Balanced-Accuracy</th>\n",
       "      <th>MCC</th>\n",
       "      <th>Kappa</th>\n",
       "      <th>Sensitivity</th>\n",
       "      <th>Specificity</th>\n",
       "      <th>PPV</th>\n",
       "      <th>NPV</th>\n",
       "      <th>Precision</th>\n",
       "      <th>F1-score</th>\n",
       "      <th>AUC</th>\n",
       "    </tr>\n",
       "  </thead>\n",
       "  <tbody>\n",
       "    <tr>\n",
       "      <th>0</th>\n",
       "      <td>0.84375</td>\n",
       "      <td>0.824574</td>\n",
       "      <td>0.655095</td>\n",
       "      <td>0.654808</td>\n",
       "      <td>0.759494</td>\n",
       "      <td>0.889655</td>\n",
       "      <td>0.789474</td>\n",
       "      <td>0.871622</td>\n",
       "      <td>0.789474</td>\n",
       "      <td>0.774194</td>\n",
       "      <td>0.824574</td>\n",
       "    </tr>\n",
       "  </tbody>\n",
       "</table>\n",
       "</div>"
      ],
      "text/plain": [
       "   Accuracy  Balanced-Accuracy       MCC     Kappa  Sensitivity  Specificity  \\\n",
       "0   0.84375           0.824574  0.655095  0.654808     0.759494     0.889655   \n",
       "\n",
       "        PPV       NPV  Precision  F1-score       AUC  \n",
       "0  0.789474  0.871622   0.789474  0.774194  0.824574  "
      ]
     },
     "execution_count": 68,
     "metadata": {},
     "output_type": "execute_result"
    }
   ],
   "source": [
    "print(\"Metrics_simple_rf:\")\n",
    "metrics_simple_rf"
   ]
  },
  {
   "cell_type": "code",
   "execution_count": 69,
   "metadata": {},
   "outputs": [
    {
     "name": "stdout",
     "output_type": "stream",
     "text": [
      "Metrics_rf_bayes:\n"
     ]
    },
    {
     "data": {
      "text/html": [
       "<div>\n",
       "<style scoped>\n",
       "    .dataframe tbody tr th:only-of-type {\n",
       "        vertical-align: middle;\n",
       "    }\n",
       "\n",
       "    .dataframe tbody tr th {\n",
       "        vertical-align: top;\n",
       "    }\n",
       "\n",
       "    .dataframe thead th {\n",
       "        text-align: right;\n",
       "    }\n",
       "</style>\n",
       "<table border=\"1\" class=\"dataframe\">\n",
       "  <thead>\n",
       "    <tr style=\"text-align: right;\">\n",
       "      <th></th>\n",
       "      <th>Accuracy</th>\n",
       "      <th>Balanced-Accuracy</th>\n",
       "      <th>MCC</th>\n",
       "      <th>Kappa</th>\n",
       "      <th>Sensitivity</th>\n",
       "      <th>Specificity</th>\n",
       "      <th>PPV</th>\n",
       "      <th>NPV</th>\n",
       "      <th>Precision</th>\n",
       "      <th>F1-score</th>\n",
       "      <th>AUC</th>\n",
       "    </tr>\n",
       "  </thead>\n",
       "  <tbody>\n",
       "    <tr>\n",
       "      <th>0</th>\n",
       "      <td>0.848214</td>\n",
       "      <td>0.836665</td>\n",
       "      <td>0.6696</td>\n",
       "      <td>0.669473</td>\n",
       "      <td>0.797468</td>\n",
       "      <td>0.889655</td>\n",
       "      <td>0.789474</td>\n",
       "      <td>0.871622</td>\n",
       "      <td>0.789474</td>\n",
       "      <td>0.7875</td>\n",
       "      <td>0.836665</td>\n",
       "    </tr>\n",
       "  </tbody>\n",
       "</table>\n",
       "</div>"
      ],
      "text/plain": [
       "   Accuracy  Balanced-Accuracy     MCC     Kappa  Sensitivity  Specificity  \\\n",
       "0  0.848214           0.836665  0.6696  0.669473     0.797468     0.889655   \n",
       "\n",
       "        PPV       NPV  Precision  F1-score       AUC  \n",
       "0  0.789474  0.871622   0.789474    0.7875  0.836665  "
      ]
     },
     "execution_count": 69,
     "metadata": {},
     "output_type": "execute_result"
    }
   ],
   "source": [
    "print(\"Metrics_rf_bayes:\")\n",
    "metrics_rf_bayes"
   ]
  },
  {
   "cell_type": "code",
   "execution_count": 70,
   "metadata": {},
   "outputs": [
    {
     "name": "stdout",
     "output_type": "stream",
     "text": [
      "Metrics_rf_bayes_class_weight:\n"
     ]
    },
    {
     "data": {
      "text/html": [
       "<div>\n",
       "<style scoped>\n",
       "    .dataframe tbody tr th:only-of-type {\n",
       "        vertical-align: middle;\n",
       "    }\n",
       "\n",
       "    .dataframe tbody tr th {\n",
       "        vertical-align: top;\n",
       "    }\n",
       "\n",
       "    .dataframe thead th {\n",
       "        text-align: right;\n",
       "    }\n",
       "</style>\n",
       "<table border=\"1\" class=\"dataframe\">\n",
       "  <thead>\n",
       "    <tr style=\"text-align: right;\">\n",
       "      <th></th>\n",
       "      <th>Accuracy</th>\n",
       "      <th>Balanced-Accuracy</th>\n",
       "      <th>MCC</th>\n",
       "      <th>Kappa</th>\n",
       "      <th>Sensitivity</th>\n",
       "      <th>Specificity</th>\n",
       "      <th>PPV</th>\n",
       "      <th>NPV</th>\n",
       "      <th>Precision</th>\n",
       "      <th>F1-score</th>\n",
       "      <th>AUC</th>\n",
       "    </tr>\n",
       "  </thead>\n",
       "  <tbody>\n",
       "    <tr>\n",
       "      <th>0</th>\n",
       "      <td>0.834821</td>\n",
       "      <td>0.832082</td>\n",
       "      <td>0.649774</td>\n",
       "      <td>0.647379</td>\n",
       "      <td>0.822785</td>\n",
       "      <td>0.841379</td>\n",
       "      <td>0.738636</td>\n",
       "      <td>0.897059</td>\n",
       "      <td>0.738636</td>\n",
       "      <td>0.778443</td>\n",
       "      <td>0.832082</td>\n",
       "    </tr>\n",
       "  </tbody>\n",
       "</table>\n",
       "</div>"
      ],
      "text/plain": [
       "   Accuracy  Balanced-Accuracy       MCC     Kappa  Sensitivity  Specificity  \\\n",
       "0  0.834821           0.832082  0.649774  0.647379     0.822785     0.841379   \n",
       "\n",
       "        PPV       NPV  Precision  F1-score       AUC  \n",
       "0  0.738636  0.897059   0.738636  0.778443  0.832082  "
      ]
     },
     "execution_count": 70,
     "metadata": {},
     "output_type": "execute_result"
    }
   ],
   "source": [
    "print(\"Metrics_rf_bayes_class_weight:\")\n",
    "metrics_rf_bayes_class_weight"
   ]
  },
  {
   "cell_type": "code",
   "execution_count": 71,
   "metadata": {},
   "outputs": [
    {
     "name": "stdout",
     "output_type": "stream",
     "text": [
      "Metrics_svm:\n"
     ]
    },
    {
     "data": {
      "text/html": [
       "<div>\n",
       "<style scoped>\n",
       "    .dataframe tbody tr th:only-of-type {\n",
       "        vertical-align: middle;\n",
       "    }\n",
       "\n",
       "    .dataframe tbody tr th {\n",
       "        vertical-align: top;\n",
       "    }\n",
       "\n",
       "    .dataframe thead th {\n",
       "        text-align: right;\n",
       "    }\n",
       "</style>\n",
       "<table border=\"1\" class=\"dataframe\">\n",
       "  <thead>\n",
       "    <tr style=\"text-align: right;\">\n",
       "      <th></th>\n",
       "      <th>Accuracy</th>\n",
       "      <th>Balanced-Accuracy</th>\n",
       "      <th>MCC</th>\n",
       "      <th>Kappa</th>\n",
       "      <th>Sensitivity</th>\n",
       "      <th>Specificity</th>\n",
       "      <th>PPV</th>\n",
       "      <th>NPV</th>\n",
       "      <th>Precision</th>\n",
       "      <th>F1-score</th>\n",
       "      <th>AUC</th>\n",
       "    </tr>\n",
       "  </thead>\n",
       "  <tbody>\n",
       "    <tr>\n",
       "      <th>0</th>\n",
       "      <td>0.830357</td>\n",
       "      <td>0.834395</td>\n",
       "      <td>0.648501</td>\n",
       "      <td>0.642863</td>\n",
       "      <td>0.848101</td>\n",
       "      <td>0.82069</td>\n",
       "      <td>0.72043</td>\n",
       "      <td>0.908397</td>\n",
       "      <td>0.72043</td>\n",
       "      <td>0.77907</td>\n",
       "      <td>0.834395</td>\n",
       "    </tr>\n",
       "  </tbody>\n",
       "</table>\n",
       "</div>"
      ],
      "text/plain": [
       "   Accuracy  Balanced-Accuracy       MCC     Kappa  Sensitivity  Specificity  \\\n",
       "0  0.830357           0.834395  0.648501  0.642863     0.848101      0.82069   \n",
       "\n",
       "       PPV       NPV  Precision  F1-score       AUC  \n",
       "0  0.72043  0.908397    0.72043   0.77907  0.834395  "
      ]
     },
     "execution_count": 71,
     "metadata": {},
     "output_type": "execute_result"
    }
   ],
   "source": [
    "print(\"Metrics_svm:\")\n",
    "metrics_svm"
   ]
  },
  {
   "cell_type": "markdown",
   "metadata": {},
   "source": [
    "## LightGBM Model building - Bayesian hyperparameter search"
   ]
  },
  {
   "cell_type": "code",
   "execution_count": null,
   "metadata": {},
   "outputs": [],
   "source": [
    "ncores=multiprocessing.cpu_count()\n",
    "\n",
    "# Create weights\n",
    "weights = {0: 0.05, 1: 0.95}\n",
    "\n",
    "# log-uniform: understand as search over p = exp(x) by varying x\n",
    "opt_lgb = BayesSearchCV(\n",
    "    lgb.LGBMClassifier(),\n",
    "    {'learning_rate': (0.01, 1.0, 'log-uniform'),\n",
    "     'num_leaves': (2, 128),\n",
    "     'min_child_samples': (1, 100),\n",
    "     'subsample': (0.05, 1.0),\n",
    "     'colsample_bytree': (0.1, 1.0),\n",
    "     'n_estimators': (50, 300),\n",
    "     },\n",
    "    n_iter=100,\n",
    "    cv=cv,\n",
    "    scoring = \"recall\",\n",
    "    verbose=0,\n",
    "    random_state=42, \n",
    "    n_jobs = ncores\n",
    ")\n",
    "\n",
    "opt_lgb.fit(x_tr, y_tr)\n",
    "\n",
    "print(\"val. score: %s\" % opt_lgb.best_score_)\n",
    "print(\"test score: %s\" % opt_lgb.score(x_ts, y_ts))\n",
    "print(\"Best params: %s\" % opt_lgb.best_params_)"
   ]
  },
  {
   "cell_type": "markdown",
   "metadata": {},
   "source": [
    "### Save model"
   ]
  },
  {
   "cell_type": "code",
   "execution_count": null,
   "metadata": {},
   "outputs": [],
   "source": [
    "lgb = opt_lgb.best_estimator_"
   ]
  },
  {
   "cell_type": "code",
   "execution_count": null,
   "metadata": {},
   "outputs": [],
   "source": [
    "#Save model - pkl file\n",
    "joblib.dump(lgb, \"../models/binary_lgb_maccs_tgr_oversampling_smote_recall.pkl\", compress=3)"
   ]
  },
  {
   "cell_type": "markdown",
   "metadata": {},
   "source": [
    "### Statistics - Morgan-LGB"
   ]
  },
  {
   "cell_type": "code",
   "execution_count": null,
   "metadata": {},
   "outputs": [],
   "source": [
    "# predict Outcome class\n",
    "#pred_lgb = lgb.predict(x_ts)"
   ]
  },
  {
   "cell_type": "code",
   "execution_count": null,
   "metadata": {},
   "outputs": [],
   "source": [
    "#Store the predicted probabilities for class 1\n",
    "pred_lgb = lgb.predict_proba(x_ts)[:, 1] > 0.5"
   ]
  },
  {
   "cell_type": "code",
   "execution_count": null,
   "metadata": {},
   "outputs": [],
   "source": [
    "# save confusion matrix and slice into four pieces\n",
    "confusion = metrics.confusion_matrix(y_ts, pred_lgb)\n",
    "print(confusion)"
   ]
  },
  {
   "cell_type": "code",
   "execution_count": null,
   "metadata": {},
   "outputs": [],
   "source": [
    "#[row, column]\n",
    "TP = confusion[1, 1]\n",
    "TN = confusion[0, 0]\n",
    "FP = confusion[0, 1]\n",
    "FN = confusion[1, 0]"
   ]
  },
  {
   "cell_type": "code",
   "execution_count": null,
   "metadata": {},
   "outputs": [],
   "source": [
    "# calc statistics\n",
    "accuracy = accuracy_score(y_ts, pred_lgb) #accuracy\n",
    "mcc = matthews_corrcoef(y_ts, pred_lgb) #mcc\n",
    "kappa = cohen_kappa_score(y_ts, pred_lgb) #kappa\n",
    "sensitivity = metrics.recall_score(y_ts, pred_lgb) #Sensitivity\n",
    "specificity = TN / (TN + FP) #Specificity\n",
    "precision = TP / float(TP + FP) #Precision\n",
    "positive_pred_value = TP / float(TP + FP) #PPV\n",
    "negative_pred_value = TN / float(TN + FN) #NPV\n",
    "auc = metrics.roc_auc_score(y_ts, pred_lgb) #AUC\n",
    "bacc = metrics.balanced_accuracy_score(y_ts, pred_lgb) # balanced accuracy\n",
    "f1 = metrics.f1_score(y_ts, pred_lgb) # F1-score\n",
    "\n",
    "print(\"Accuracy = \", accuracy)\n",
    "print(\"MCC = \", mcc)\n",
    "print(\"Kappa = \", kappa)\n",
    "print(\"Sensitivity = \", sensitivity)\n",
    "print(\"Specificity = \", specificity)\n",
    "print(\"Precision = \", precision)\n",
    "print(\"PPV = \", positive_pred_value)\n",
    "print(\"NPV = \", negative_pred_value)\n",
    "print(\"AUC = \", metrics.roc_auc_score(y_ts, pred_lgb))\n",
    "print(\"Balanced accuracy = \", bacc)\n",
    "print(\"F1-score = \", f1)"
   ]
  },
  {
   "cell_type": "code",
   "execution_count": null,
   "metadata": {},
   "outputs": [],
   "source": [
    "sns.set_style(\"whitegrid\")\n",
    "stats = [accuracy, mcc, kappa, sensitivity, specificity, positive_pred_value, negative_pred_value, bacc, f1, auc]\n",
    "labels = [\"Acc\", \"MCC\", \"Kappa\", \"Se\", \"Sp\", \"PPV\", \"NPV\", 'Bal-acc', \"F1\",'AUC']\n",
    "report = sns.barplot(x=labels, y=stats)\n",
    "plt.savefig('../results/binary_report_lgb_maccs_tgr_oversampling_smote_recall.png', dpi=300)"
   ]
  },
  {
   "cell_type": "code",
   "execution_count": null,
   "metadata": {},
   "outputs": [],
   "source": [
    "#converting calculated metrics into a pandas dataframe\n",
    "metrics_lgb = DataFrame({'Accuracy': accuracy, 'MCC': mcc, 'Kappa': kappa,\n",
    "                    , \"Sensitivity\": sensitivity,\"Specificity\": specificity, \"Precision\": precision, \"PPV\": positive_pred_value,\n",
    "                    \"NPV\": negative_pred_value, 'Bal-acc':bacc, 'F1-score': f1,'AUC': auc}, index=[0])"
   ]
  },
  {
   "cell_type": "code",
   "execution_count": null,
   "metadata": {},
   "outputs": [],
   "source": [
    "# Print the dataframe\n",
    "metrics_lgb"
   ]
  },
  {
   "cell_type": "code",
   "execution_count": null,
   "metadata": {},
   "outputs": [],
   "source": [
    "# Saving the dataframe as excel file\n",
    "metrics_lgb.to_excel(\"../results/binary_metrics_lgb_maccs_tgr_oversampling_smote_recall.xlsx\", sheet_name= \"Sheet1\")"
   ]
  },
  {
   "cell_type": "code",
   "execution_count": null,
   "metadata": {},
   "outputs": [],
   "source": []
  }
 ],
 "metadata": {
  "kernelspec": {
   "display_name": "Python 3",
   "language": "python",
   "name": "python3"
  },
  "language_info": {
   "codemirror_mode": {
    "name": "ipython",
    "version": 3
   },
   "file_extension": ".py",
   "mimetype": "text/x-python",
   "name": "python",
   "nbconvert_exporter": "python",
   "pygments_lexer": "ipython3",
   "version": "3.7.6"
  }
 },
 "nbformat": 4,
 "nbformat_minor": 4
}
